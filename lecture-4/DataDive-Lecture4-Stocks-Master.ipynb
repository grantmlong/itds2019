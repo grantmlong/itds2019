{
 "cells": [
  {
   "cell_type": "markdown",
   "metadata": {},
   "source": [
    "# Data Dive: Exploring Stock Returns\n",
    "\n",
    "The second part of today's exercise takes a look at stock data downloaded from [Yahoo Finance](https://finance.yahoo.com/lookup). Stock returns can translate to enormous swings of wealth, and thus have long been the subject of statistical analysis. Today we'll take a look at just a handful of properties of stock returns. The file linked below includes all available data for six stocks: AT&T (T), Apple (AAPL), Facebook (FB), General Electric (GE), IBM (IBM), and Microsoft (MSFT) and one index: the Dow Jones Industrial Average (DJIA).  "
   ]
  },
  {
   "cell_type": "code",
   "execution_count": 1,
   "metadata": {},
   "outputs": [],
   "source": [
    "%matplotlib inline\n",
    "import pandas as pd\n",
    "import matplotlib.pyplot as plt\n",
    "import numpy as np"
   ]
  },
  {
   "cell_type": "markdown",
   "metadata": {},
   "source": [
    "#### Download Raw Data"
   ]
  },
  {
   "cell_type": "code",
   "execution_count": 2,
   "metadata": {},
   "outputs": [
    {
     "name": "stdout",
     "output_type": "stream",
     "text": [
      "Raw rows: 1259\n",
      "Full rows: 1259\n"
     ]
    },
    {
     "data": {
      "text/html": [
       "<div>\n",
       "<style scoped>\n",
       "    .dataframe tbody tr th:only-of-type {\n",
       "        vertical-align: middle;\n",
       "    }\n",
       "\n",
       "    .dataframe tbody tr th {\n",
       "        vertical-align: top;\n",
       "    }\n",
       "\n",
       "    .dataframe thead th {\n",
       "        text-align: right;\n",
       "    }\n",
       "</style>\n",
       "<table border=\"1\" class=\"dataframe\">\n",
       "  <thead>\n",
       "    <tr style=\"text-align: right;\">\n",
       "      <th></th>\n",
       "      <th>T</th>\n",
       "      <th>DJIA</th>\n",
       "      <th>IBM</th>\n",
       "      <th>GOOG</th>\n",
       "      <th>AAPL</th>\n",
       "      <th>FB</th>\n",
       "      <th>GE</th>\n",
       "      <th>MSFT</th>\n",
       "    </tr>\n",
       "    <tr>\n",
       "      <th>Date</th>\n",
       "      <th></th>\n",
       "      <th></th>\n",
       "      <th></th>\n",
       "      <th></th>\n",
       "      <th></th>\n",
       "      <th></th>\n",
       "      <th></th>\n",
       "      <th></th>\n",
       "    </tr>\n",
       "  </thead>\n",
       "  <tbody>\n",
       "    <tr>\n",
       "      <th>2/24/14</th>\n",
       "      <td>24.858921</td>\n",
       "      <td>16207.13965</td>\n",
       "      <td>150.323257</td>\n",
       "      <td>602.337402</td>\n",
       "      <td>66.643288</td>\n",
       "      <td>70.779999</td>\n",
       "      <td>21.400719</td>\n",
       "      <td>33.529079</td>\n",
       "    </tr>\n",
       "    <tr>\n",
       "      <th>2/25/14</th>\n",
       "      <td>24.629236</td>\n",
       "      <td>16179.66016</td>\n",
       "      <td>150.142944</td>\n",
       "      <td>606.058167</td>\n",
       "      <td>65.949753</td>\n",
       "      <td>69.849998</td>\n",
       "      <td>21.383795</td>\n",
       "      <td>33.395638</td>\n",
       "    </tr>\n",
       "    <tr>\n",
       "      <th>2/26/14</th>\n",
       "      <td>24.499090</td>\n",
       "      <td>16198.41016</td>\n",
       "      <td>150.823029</td>\n",
       "      <td>606.142639</td>\n",
       "      <td>65.354752</td>\n",
       "      <td>69.260002</td>\n",
       "      <td>21.409180</td>\n",
       "      <td>33.333370</td>\n",
       "    </tr>\n",
       "    <tr>\n",
       "      <th>2/27/14</th>\n",
       "      <td>24.675177</td>\n",
       "      <td>16272.65039</td>\n",
       "      <td>151.814590</td>\n",
       "      <td>605.665710</td>\n",
       "      <td>66.658447</td>\n",
       "      <td>68.940002</td>\n",
       "      <td>21.578424</td>\n",
       "      <td>33.680309</td>\n",
       "    </tr>\n",
       "    <tr>\n",
       "      <th>2/28/14</th>\n",
       "      <td>24.445496</td>\n",
       "      <td>16321.70996</td>\n",
       "      <td>151.732605</td>\n",
       "      <td>603.897217</td>\n",
       "      <td>66.477783</td>\n",
       "      <td>68.459999</td>\n",
       "      <td>21.553036</td>\n",
       "      <td>34.080639</td>\n",
       "    </tr>\n",
       "  </tbody>\n",
       "</table>\n",
       "</div>"
      ],
      "text/plain": [
       "                 T         DJIA         IBM        GOOG       AAPL         FB  \\\n",
       "Date                                                                            \n",
       "2/24/14  24.858921  16207.13965  150.323257  602.337402  66.643288  70.779999   \n",
       "2/25/14  24.629236  16179.66016  150.142944  606.058167  65.949753  69.849998   \n",
       "2/26/14  24.499090  16198.41016  150.823029  606.142639  65.354752  69.260002   \n",
       "2/27/14  24.675177  16272.65039  151.814590  605.665710  66.658447  68.940002   \n",
       "2/28/14  24.445496  16321.70996  151.732605  603.897217  66.477783  68.459999   \n",
       "\n",
       "                GE       MSFT  \n",
       "Date                           \n",
       "2/24/14  21.400719  33.529079  \n",
       "2/25/14  21.383795  33.395638  \n",
       "2/26/14  21.409180  33.333370  \n",
       "2/27/14  21.578424  33.680309  \n",
       "2/28/14  21.553036  34.080639  "
      ]
     },
     "execution_count": 2,
     "metadata": {},
     "output_type": "execute_result"
    }
   ],
   "source": [
    "raw_df = pd.read_csv('https://grantmlong.com/data/stocks2019.csv')\n",
    "raw_df.set_index('Date', inplace=True)\n",
    "print('Raw rows: %i' % raw_df.shape[0])\n",
    "price_df = raw_df.dropna(axis=0)\n",
    "print('Full rows: %i' % price_df.shape[0])\n",
    "price_df.head()"
   ]
  },
  {
   "cell_type": "markdown",
   "metadata": {},
   "source": [
    "##### Plot the five year price history for all of the stocks. Which has returned the most?"
   ]
  },
  {
   "cell_type": "code",
   "execution_count": 3,
   "metadata": {},
   "outputs": [
    {
     "data": {
      "text/plain": [
       "<matplotlib.axes._subplots.AxesSubplot at 0x10f3b3b00>"
      ]
     },
     "execution_count": 3,
     "metadata": {},
     "output_type": "execute_result"
    },
    {
     "data": {
      "image/png": "[encoded data removed]",
      "text/plain": [
       "<Figure size 432x288 with 1 Axes>"
      ]
     },
     "metadata": {
      "needs_background": "light"
     },
     "output_type": "display_data"
    }
   ],
   "source": [
    "price_df[['T', 'IBM', 'GOOG', 'AAPL', 'FB', 'GE', 'MSFT']].plot()"
   ]
  },
  {
   "cell_type": "code",
   "execution_count": 4,
   "metadata": {},
   "outputs": [
    {
     "data": {
      "text/plain": [
       "T          6.520764\n",
       "DJIA    9852.150390\n",
       "IBM      -10.892944\n",
       "GOOG     504.311828\n",
       "AAPL     107.020248\n",
       "FB        92.040001\n",
       "GE       -11.213795\n",
       "MSFT      77.574363\n",
       "dtype: float64"
      ]
     },
     "execution_count": 4,
     "metadata": {},
     "output_type": "execute_result"
    }
   ],
   "source": [
    "price_df.iloc[-1] - price_df.iloc[1]  "
   ]
  },
  {
   "cell_type": "code",
   "execution_count": 5,
   "metadata": {},
   "outputs": [
    {
     "data": {
      "text/plain": [
       "T       0.264757\n",
       "DJIA    0.608922\n",
       "IBM    -0.072550\n",
       "GOOG    0.832118\n",
       "AAPL    1.622754\n",
       "FB      1.317681\n",
       "GE     -0.524406\n",
       "MSFT    2.322889\n",
       "dtype: float64"
      ]
     },
     "execution_count": 5,
     "metadata": {},
     "output_type": "execute_result"
    }
   ],
   "source": [
    "(price_df.iloc[-1] - price_df.iloc[1]) /  price_df.iloc[1]"
   ]
  },
  {
   "cell_type": "markdown",
   "metadata": {},
   "source": [
    "#### Transform Prices to Returns"
   ]
  },
  {
   "cell_type": "code",
   "execution_count": 6,
   "metadata": {},
   "outputs": [
    {
     "data": {
      "text/html": [
       "<div>\n",
       "<style scoped>\n",
       "    .dataframe tbody tr th:only-of-type {\n",
       "        vertical-align: middle;\n",
       "    }\n",
       "\n",
       "    .dataframe tbody tr th {\n",
       "        vertical-align: top;\n",
       "    }\n",
       "\n",
       "    .dataframe thead th {\n",
       "        text-align: right;\n",
       "    }\n",
       "</style>\n",
       "<table border=\"1\" class=\"dataframe\">\n",
       "  <thead>\n",
       "    <tr style=\"text-align: right;\">\n",
       "      <th></th>\n",
       "      <th>T</th>\n",
       "      <th>DJIA</th>\n",
       "      <th>IBM</th>\n",
       "      <th>GOOG</th>\n",
       "      <th>AAPL</th>\n",
       "      <th>FB</th>\n",
       "      <th>GE</th>\n",
       "      <th>MSFT</th>\n",
       "    </tr>\n",
       "    <tr>\n",
       "      <th>Date</th>\n",
       "      <th></th>\n",
       "      <th></th>\n",
       "      <th></th>\n",
       "      <th></th>\n",
       "      <th></th>\n",
       "      <th></th>\n",
       "      <th></th>\n",
       "      <th></th>\n",
       "    </tr>\n",
       "  </thead>\n",
       "  <tbody>\n",
       "    <tr>\n",
       "      <th>2/8/19</th>\n",
       "      <td>0.003396</td>\n",
       "      <td>-0.002511</td>\n",
       "      <td>0.003904</td>\n",
       "      <td>-0.003322</td>\n",
       "      <td>0.001175</td>\n",
       "      <td>0.005710</td>\n",
       "      <td>-0.024851</td>\n",
       "      <td>0.003800</td>\n",
       "    </tr>\n",
       "    <tr>\n",
       "      <th>2/11/19</th>\n",
       "      <td>0.005415</td>\n",
       "      <td>-0.002120</td>\n",
       "      <td>0.002094</td>\n",
       "      <td>-0.000046</td>\n",
       "      <td>-0.005751</td>\n",
       "      <td>-0.009203</td>\n",
       "      <td>0.022426</td>\n",
       "      <td>-0.003975</td>\n",
       "    </tr>\n",
       "    <tr>\n",
       "      <th>2/12/19</th>\n",
       "      <td>0.003366</td>\n",
       "      <td>0.014874</td>\n",
       "      <td>0.015374</td>\n",
       "      <td>0.024073</td>\n",
       "      <td>0.008617</td>\n",
       "      <td>-0.004524</td>\n",
       "      <td>-0.004985</td>\n",
       "      <td>0.015582</td>\n",
       "    </tr>\n",
       "    <tr>\n",
       "      <th>2/13/19</th>\n",
       "      <td>0.001006</td>\n",
       "      <td>0.004622</td>\n",
       "      <td>0.010805</td>\n",
       "      <td>-0.001079</td>\n",
       "      <td>-0.004155</td>\n",
       "      <td>-0.005877</td>\n",
       "      <td>0.039078</td>\n",
       "      <td>-0.000748</td>\n",
       "    </tr>\n",
       "    <tr>\n",
       "      <th>2/14/19</th>\n",
       "      <td>-0.001676</td>\n",
       "      <td>-0.004067</td>\n",
       "      <td>-0.007563</td>\n",
       "      <td>0.001348</td>\n",
       "      <td>0.003643</td>\n",
       "      <td>-0.000731</td>\n",
       "      <td>-0.031823</td>\n",
       "      <td>0.000843</td>\n",
       "    </tr>\n",
       "    <tr>\n",
       "      <th>2/15/19</th>\n",
       "      <td>0.022826</td>\n",
       "      <td>0.017448</td>\n",
       "      <td>0.011357</td>\n",
       "      <td>-0.007150</td>\n",
       "      <td>-0.002225</td>\n",
       "      <td>-0.008844</td>\n",
       "      <td>0.004980</td>\n",
       "      <td>0.012348</td>\n",
       "    </tr>\n",
       "    <tr>\n",
       "      <th>2/19/19</th>\n",
       "      <td>0.005251</td>\n",
       "      <td>0.000312</td>\n",
       "      <td>0.004854</td>\n",
       "      <td>0.004409</td>\n",
       "      <td>0.002993</td>\n",
       "      <td>-0.001292</td>\n",
       "      <td>0.003964</td>\n",
       "      <td>-0.000462</td>\n",
       "    </tr>\n",
       "    <tr>\n",
       "      <th>2/20/19</th>\n",
       "      <td>0.007183</td>\n",
       "      <td>0.002438</td>\n",
       "      <td>-0.005047</td>\n",
       "      <td>-0.004255</td>\n",
       "      <td>0.006435</td>\n",
       "      <td>0.001664</td>\n",
       "      <td>-0.002962</td>\n",
       "      <td>-0.005199</td>\n",
       "    </tr>\n",
       "    <tr>\n",
       "      <th>2/21/19</th>\n",
       "      <td>-0.000648</td>\n",
       "      <td>-0.004000</td>\n",
       "      <td>-0.001159</td>\n",
       "      <td>-0.015111</td>\n",
       "      <td>-0.005639</td>\n",
       "      <td>-0.015502</td>\n",
       "      <td>-0.006931</td>\n",
       "      <td>0.021092</td>\n",
       "    </tr>\n",
       "    <tr>\n",
       "      <th>2/22/19</th>\n",
       "      <td>0.010380</td>\n",
       "      <td>0.007009</td>\n",
       "      <td>0.010229</td>\n",
       "      <td>0.012215</td>\n",
       "      <td>0.011166</td>\n",
       "      <td>0.011560</td>\n",
       "      <td>0.013958</td>\n",
       "      <td>0.014258</td>\n",
       "    </tr>\n",
       "  </tbody>\n",
       "</table>\n",
       "</div>"
      ],
      "text/plain": [
       "                T      DJIA       IBM      GOOG      AAPL        FB        GE  \\\n",
       "Date                                                                            \n",
       "2/8/19   0.003396 -0.002511  0.003904 -0.003322  0.001175  0.005710 -0.024851   \n",
       "2/11/19  0.005415 -0.002120  0.002094 -0.000046 -0.005751 -0.009203  0.022426   \n",
       "2/12/19  0.003366  0.014874  0.015374  0.024073  0.008617 -0.004524 -0.004985   \n",
       "2/13/19  0.001006  0.004622  0.010805 -0.001079 -0.004155 -0.005877  0.039078   \n",
       "2/14/19 -0.001676 -0.004067 -0.007563  0.001348  0.003643 -0.000731 -0.031823   \n",
       "2/15/19  0.022826  0.017448  0.011357 -0.007150 -0.002225 -0.008844  0.004980   \n",
       "2/19/19  0.005251  0.000312  0.004854  0.004409  0.002993 -0.001292  0.003964   \n",
       "2/20/19  0.007183  0.002438 -0.005047 -0.004255  0.006435  0.001664 -0.002962   \n",
       "2/21/19 -0.000648 -0.004000 -0.001159 -0.015111 -0.005639 -0.015502 -0.006931   \n",
       "2/22/19  0.010380  0.007009  0.010229  0.012215  0.011166  0.011560  0.013958   \n",
       "\n",
       "             MSFT  \n",
       "Date               \n",
       "2/8/19   0.003800  \n",
       "2/11/19 -0.003975  \n",
       "2/12/19  0.015582  \n",
       "2/13/19 -0.000748  \n",
       "2/14/19  0.000843  \n",
       "2/15/19  0.012348  \n",
       "2/19/19 -0.000462  \n",
       "2/20/19 -0.005199  \n",
       "2/21/19  0.021092  \n",
       "2/22/19  0.014258  "
      ]
     },
     "execution_count": 6,
     "metadata": {},
     "output_type": "execute_result"
    }
   ],
   "source": [
    "return_df = price_df.pct_change(periods=1).dropna(axis=0)\n",
    "return_df.tail(10)"
   ]
  },
  {
   "cell_type": "markdown",
   "metadata": {},
   "source": [
    "### Part I: Visualize Returns\n",
    "\n",
    "Look at the Build histograms for the returns for each of the stocks. What do the distributions of these stocks look like?"
   ]
  },
  {
   "cell_type": "code",
   "execution_count": 7,
   "metadata": {},
   "outputs": [
    {
     "data": {
      "text/plain": [
       "array([[<matplotlib.axes._subplots.AxesSubplot object at 0x11e758240>,\n",
       "        <matplotlib.axes._subplots.AxesSubplot object at 0x11e784748>,\n",
       "        <matplotlib.axes._subplots.AxesSubplot object at 0x11e7accc0>],\n",
       "       [<matplotlib.axes._subplots.AxesSubplot object at 0x11e7dc278>,\n",
       "        <matplotlib.axes._subplots.AxesSubplot object at 0x11f1907f0>,\n",
       "        <matplotlib.axes._subplots.AxesSubplot object at 0x11f1b8d68>],\n",
       "       [<matplotlib.axes._subplots.AxesSubplot object at 0x11f1e6320>,\n",
       "        <matplotlib.axes._subplots.AxesSubplot object at 0x11f20f8d0>,\n",
       "        <matplotlib.axes._subplots.AxesSubplot object at 0x11f20f908>]],\n",
       "      dtype=object)"
      ]
     },
     "execution_count": 7,
     "metadata": {},
     "output_type": "execute_result"
    },
    {
     "data": {
      "image/png": "[encoded data removed]",
      "text/plain": [
       "<Figure size 432x288 with 9 Axes>"
      ]
     },
     "metadata": {
      "needs_background": "light"
     },
     "output_type": "display_data"
    }
   ],
   "source": [
    "return_df.hist(bins=100)"
   ]
  },
  {
   "cell_type": "code",
   "execution_count": 8,
   "metadata": {},
   "outputs": [
    {
     "data": {
      "text/plain": [
       "<matplotlib.axes._subplots.AxesSubplot at 0x10f220dd8>"
      ]
     },
     "execution_count": 8,
     "metadata": {},
     "output_type": "execute_result"
    },
    {
     "data": {
      "image/png": "[encoded data removed]",
      "text/plain": [
       "<Figure size 432x288 with 1 Axes>"
      ]
     },
     "metadata": {
      "needs_background": "light"
     },
     "output_type": "display_data"
    }
   ],
   "source": [
    "return_df.AAPL.hist(bins=100)"
   ]
  },
  {
   "cell_type": "markdown",
   "metadata": {},
   "source": [
    "Which is has the highest average return? Which is the most volatile?\n",
    "\n",
    "1. Identify and plot the summary statistics to answer each of these \n",
    "2. Are there other plots that might also be useful in illustrating these concepts?"
   ]
  },
  {
   "cell_type": "code",
   "execution_count": 9,
   "metadata": {},
   "outputs": [
    {
     "data": {
      "text/plain": [
       "<matplotlib.axes._subplots.AxesSubplot at 0x11ffa5e10>"
      ]
     },
     "execution_count": 9,
     "metadata": {},
     "output_type": "execute_result"
    },
    {
     "data": {
      "image/png": "[encoded data removed]",
      "text/plain": [
       "<Figure size 432x288 with 1 Axes>"
      ]
     },
     "metadata": {
      "needs_background": "light"
     },
     "output_type": "display_data"
    }
   ],
   "source": [
    "return_df.std().plot.bar()"
   ]
  },
  {
   "cell_type": "code",
   "execution_count": 10,
   "metadata": {},
   "outputs": [
    {
     "data": {
      "text/plain": [
       "<matplotlib.axes._subplots.AxesSubplot at 0x120cc3f28>"
      ]
     },
     "execution_count": 10,
     "metadata": {},
     "output_type": "execute_result"
    },
    {
     "data": {
      "image/png": "[encoded data removed]",
      "text/plain": [
       "<Figure size 432x288 with 1 Axes>"
      ]
     },
     "metadata": {
      "needs_background": "light"
     },
     "output_type": "display_data"
    }
   ],
   "source": [
    "return_df.boxplot()"
   ]
  },
  {
   "cell_type": "code",
   "execution_count": null,
   "metadata": {},
   "outputs": [],
   "source": []
  },
  {
   "cell_type": "markdown",
   "metadata": {},
   "source": [
    "### Part II: Confidence Intervals\n",
    "\n",
    "Based on this data, find the most you would lose on a \\$10,000 investment with 95 percent and 99 percent confidence.\n",
    "* Is it fair to call this a confidence interval?\n",
    "* How else might you calculate such as confidence interval?\n",
    "* [Time permitting] For the stocks with more data available, how does the inclusion of the historical returns change things?"
   ]
  },
  {
   "cell_type": "code",
   "execution_count": 11,
   "metadata": {},
   "outputs": [
    {
     "data": {
      "text/html": [
       "<div>\n",
       "<style scoped>\n",
       "    .dataframe tbody tr th:only-of-type {\n",
       "        vertical-align: middle;\n",
       "    }\n",
       "\n",
       "    .dataframe tbody tr th {\n",
       "        vertical-align: top;\n",
       "    }\n",
       "\n",
       "    .dataframe thead th {\n",
       "        text-align: right;\n",
       "    }\n",
       "</style>\n",
       "<table border=\"1\" class=\"dataframe\">\n",
       "  <thead>\n",
       "    <tr style=\"text-align: right;\">\n",
       "      <th></th>\n",
       "      <th>T</th>\n",
       "      <th>DJIA</th>\n",
       "      <th>IBM</th>\n",
       "      <th>GOOG</th>\n",
       "      <th>AAPL</th>\n",
       "      <th>FB</th>\n",
       "      <th>GE</th>\n",
       "      <th>MSFT</th>\n",
       "    </tr>\n",
       "  </thead>\n",
       "  <tbody>\n",
       "    <tr>\n",
       "      <th>0.01</th>\n",
       "      <td>-335.162396</td>\n",
       "      <td>-239.842625</td>\n",
       "      <td>-401.104251</td>\n",
       "      <td>-425.531626</td>\n",
       "      <td>-422.448295</td>\n",
       "      <td>-505.517474</td>\n",
       "      <td>-464.376434</td>\n",
       "      <td>-393.343431</td>\n",
       "    </tr>\n",
       "    <tr>\n",
       "      <th>0.05</th>\n",
       "      <td>-164.458084</td>\n",
       "      <td>-144.682606</td>\n",
       "      <td>-184.049460</td>\n",
       "      <td>-231.714088</td>\n",
       "      <td>-246.679581</td>\n",
       "      <td>-271.177208</td>\n",
       "      <td>-245.789480</td>\n",
       "      <td>-204.227371</td>\n",
       "    </tr>\n",
       "  </tbody>\n",
       "</table>\n",
       "</div>"
      ],
      "text/plain": [
       "               T        DJIA         IBM        GOOG        AAPL          FB  \\\n",
       "0.01 -335.162396 -239.842625 -401.104251 -425.531626 -422.448295 -505.517474   \n",
       "0.05 -164.458084 -144.682606 -184.049460 -231.714088 -246.679581 -271.177208   \n",
       "\n",
       "              GE        MSFT  \n",
       "0.01 -464.376434 -393.343431  \n",
       "0.05 -245.789480 -204.227371  "
      ]
     },
     "execution_count": 11,
     "metadata": {},
     "output_type": "execute_result"
    }
   ],
   "source": [
    "return_df.quantile([0.01, 0.05])*10000"
   ]
  },
  {
   "cell_type": "code",
   "execution_count": 12,
   "metadata": {},
   "outputs": [
    {
     "data": {
      "image/png": "[encoded data removed]",
      "text/plain": [
       "<Figure size 432x288 with 1 Axes>"
      ]
     },
     "metadata": {
      "needs_background": "light"
     },
     "output_type": "display_data"
    }
   ],
   "source": [
    "_ = return_df.FB.hist(bins=100, alpha=0.4)\n"
   ]
  },
  {
   "cell_type": "code",
   "execution_count": 13,
   "metadata": {},
   "outputs": [
    {
     "data": {
      "image/png": "[encoded data removed]",
      "text/plain": [
       "<Figure size 432x288 with 1 Axes>"
      ]
     },
     "metadata": {
      "needs_background": "light"
     },
     "output_type": "display_data"
    }
   ],
   "source": [
    "_ = plt.hist(np.random.normal(return_df.FB.mean(), return_df.FB.std()), len(return_df), color='red', alpha=0.4)\n",
    "plt.show()"
   ]
  },
  {
   "cell_type": "markdown",
   "metadata": {},
   "source": [
    "### Part III: Correlation\n",
    "\n",
    "For each of the six stocks, which are most correlated with each other?\n",
    "* Why might this be the case?\n",
    "* Can we visualize these correlations?\n",
    "\n",
    "For each of the six stocks, which are most correlated with the broader market index?\n",
    "* How might we use the data?\n",
    "* If we regress these returns against the market which has the biggest slope and intercept?"
   ]
  },
  {
   "cell_type": "code",
   "execution_count": 14,
   "metadata": {},
   "outputs": [
    {
     "data": {
      "text/html": [
       "<div>\n",
       "<style scoped>\n",
       "    .dataframe tbody tr th:only-of-type {\n",
       "        vertical-align: middle;\n",
       "    }\n",
       "\n",
       "    .dataframe tbody tr th {\n",
       "        vertical-align: top;\n",
       "    }\n",
       "\n",
       "    .dataframe thead th {\n",
       "        text-align: right;\n",
       "    }\n",
       "</style>\n",
       "<table border=\"1\" class=\"dataframe\">\n",
       "  <thead>\n",
       "    <tr style=\"text-align: right;\">\n",
       "      <th></th>\n",
       "      <th>FB</th>\n",
       "      <th>AAPL</th>\n",
       "      <th>GE</th>\n",
       "      <th>IBM</th>\n",
       "      <th>T</th>\n",
       "      <th>MSFT</th>\n",
       "    </tr>\n",
       "  </thead>\n",
       "  <tbody>\n",
       "    <tr>\n",
       "      <th>FB</th>\n",
       "      <td>1.000000</td>\n",
       "      <td>0.433814</td>\n",
       "      <td>0.261472</td>\n",
       "      <td>0.276208</td>\n",
       "      <td>0.151163</td>\n",
       "      <td>0.474136</td>\n",
       "    </tr>\n",
       "    <tr>\n",
       "      <th>AAPL</th>\n",
       "      <td>0.433814</td>\n",
       "      <td>1.000000</td>\n",
       "      <td>0.267958</td>\n",
       "      <td>0.358979</td>\n",
       "      <td>0.232014</td>\n",
       "      <td>0.544993</td>\n",
       "    </tr>\n",
       "    <tr>\n",
       "      <th>GE</th>\n",
       "      <td>0.261472</td>\n",
       "      <td>0.267958</td>\n",
       "      <td>1.000000</td>\n",
       "      <td>0.361605</td>\n",
       "      <td>0.305148</td>\n",
       "      <td>0.284435</td>\n",
       "    </tr>\n",
       "    <tr>\n",
       "      <th>IBM</th>\n",
       "      <td>0.276208</td>\n",
       "      <td>0.358979</td>\n",
       "      <td>0.361605</td>\n",
       "      <td>1.000000</td>\n",
       "      <td>0.339983</td>\n",
       "      <td>0.465304</td>\n",
       "    </tr>\n",
       "    <tr>\n",
       "      <th>T</th>\n",
       "      <td>0.151163</td>\n",
       "      <td>0.232014</td>\n",
       "      <td>0.305148</td>\n",
       "      <td>0.339983</td>\n",
       "      <td>1.000000</td>\n",
       "      <td>0.274546</td>\n",
       "    </tr>\n",
       "    <tr>\n",
       "      <th>MSFT</th>\n",
       "      <td>0.474136</td>\n",
       "      <td>0.544993</td>\n",
       "      <td>0.284435</td>\n",
       "      <td>0.465304</td>\n",
       "      <td>0.274546</td>\n",
       "      <td>1.000000</td>\n",
       "    </tr>\n",
       "  </tbody>\n",
       "</table>\n",
       "</div>"
      ],
      "text/plain": [
       "            FB      AAPL        GE       IBM         T      MSFT\n",
       "FB    1.000000  0.433814  0.261472  0.276208  0.151163  0.474136\n",
       "AAPL  0.433814  1.000000  0.267958  0.358979  0.232014  0.544993\n",
       "GE    0.261472  0.267958  1.000000  0.361605  0.305148  0.284435\n",
       "IBM   0.276208  0.358979  0.361605  1.000000  0.339983  0.465304\n",
       "T     0.151163  0.232014  0.305148  0.339983  1.000000  0.274546\n",
       "MSFT  0.474136  0.544993  0.284435  0.465304  0.274546  1.000000"
      ]
     },
     "execution_count": 14,
     "metadata": {},
     "output_type": "execute_result"
    }
   ],
   "source": [
    "return_df[['FB', 'AAPL', 'GE', 'IBM', 'T', 'MSFT']].corr()"
   ]
  },
  {
   "cell_type": "code",
   "execution_count": 15,
   "metadata": {},
   "outputs": [
    {
     "data": {
      "text/plain": [
       "<matplotlib.axes._subplots.AxesSubplot at 0x121af1128>"
      ]
     },
     "execution_count": 15,
     "metadata": {},
     "output_type": "execute_result"
    },
    {
     "data": {
      "image/png": "[encoded data removed]",
      "text/plain": [
       "<Figure size 432x288 with 1 Axes>"
      ]
     },
     "metadata": {
      "needs_background": "light"
     },
     "output_type": "display_data"
    }
   ],
   "source": [
    "return_df.plot.scatter('MSFT', 'AAPL')"
   ]
  },
  {
   "cell_type": "code",
   "execution_count": 16,
   "metadata": {},
   "outputs": [],
   "source": [
    "alpha_fb, beta_fb = np.polyfit(return_df['DJIA'].values, return_df['FB'].values, 1)\n",
    "alpha_ibm, beta_ibm = np.polyfit(return_df['DJIA'].values, return_df['IBM'].values, 1)\n",
    "alpha_aapl, beta_aapl = np.polyfit(return_df['DJIA'].values, return_df['AAPL'].values, 1)\n",
    "alpha_ge, beta_ge = np.polyfit(return_df['DJIA'].values, return_df['GE'].values, 1)\n",
    "alpha_t, beta_t = np.polyfit(return_df['DJIA'].values, return_df['T'].values, 1)\n",
    "alpha_msft, beta_msft = np.polyfit(return_df['DJIA'].values, return_df['MSFT'].values, 1)"
   ]
  },
  {
   "cell_type": "code",
   "execution_count": 17,
   "metadata": {},
   "outputs": [
    {
     "data": {
      "text/plain": [
       "<BarContainer object of 6 artists>"
      ]
     },
     "execution_count": 17,
     "metadata": {},
     "output_type": "execute_result"
    },
    {
     "data": {
      "image/png": "[encoded data removed]",
      "text/plain": [
       "<Figure size 432x288 with 1 Axes>"
      ]
     },
     "metadata": {
      "needs_background": "light"
     },
     "output_type": "display_data"
    }
   ],
   "source": [
    "plt.bar(\n",
    "    ['FB', 'IBM', 'GE', 'AAPL', 'T', 'MSFT'], \n",
    "    [alpha_fb, alpha_ibm, alpha_ge, alpha_aapl, alpha_t, alpha_msft]\n",
    ")"
   ]
  },
  {
   "cell_type": "code",
   "execution_count": 18,
   "metadata": {},
   "outputs": [
    {
     "data": {
      "text/plain": [
       "<BarContainer object of 6 artists>"
      ]
     },
     "execution_count": 18,
     "metadata": {},
     "output_type": "execute_result"
    },
    {
     "data": {
      "image/png": "[encoded data removed]",
      "text/plain": [
       "<Figure size 432x288 with 1 Axes>"
      ]
     },
     "metadata": {
      "needs_background": "light"
     },
     "output_type": "display_data"
    }
   ],
   "source": [
    "plt.bar(\n",
    "    ['FB', 'IBM', 'GE', 'AAPL', 'T', 'MSFT'], \n",
    "    [beta_fb, beta_ibm, beta_ge, beta_aapl, beta_t, beta_msft]\n",
    ")"
   ]
  },
  {
   "cell_type": "code",
   "execution_count": null,
   "metadata": {},
   "outputs": [],
   "source": []
  },
  {
   "cell_type": "markdown",
   "metadata": {},
   "source": [
    "## Bonus Round: Make a case, using data, for investing in one of these four stocks."
   ]
  },
  {
   "cell_type": "code",
   "execution_count": null,
   "metadata": {},
   "outputs": [],
   "source": []
  },
  {
   "cell_type": "code",
   "execution_count": null,
   "metadata": {},
   "outputs": [],
   "source": []
  },
  {
   "cell_type": "code",
   "execution_count": null,
   "metadata": {},
   "outputs": [],
   "source": []
  }
 ],
 "metadata": {
  "anaconda-cloud": {},
  "kernelspec": {
   "display_name": "Python 3",
   "language": "python",
   "name": "python3"
  },
  "language_info": {
   "codemirror_mode": {
    "name": "ipython",
    "version": 3
   },
   "file_extension": ".py",
   "mimetype": "text/x-python",
   "name": "python",
   "nbconvert_exporter": "python",
   "pygments_lexer": "ipython3",
   "version": "3.6.7"
  }
 },
 "nbformat": 4,
 "nbformat_minor": 1
}
