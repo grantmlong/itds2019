{
 "cells": [
  {
   "cell_type": "markdown",
   "metadata": {
    "deletable": true,
    "editable": true
   },
   "source": [
    "# Lecture 1: What Data Science Can Tell Us About the World\n",
    "\n",
    "##### For our first exercise, we'll be using Jupyter, Python 3.6, and the Pandas package to analyze a data set. \n",
    "\n",
    "\n",
    "## Preamble.\n",
    "\n",
    "This exercise will be an extreme crash course in Python. If you're not familiar with Python, don't worry, it's easy! Future datacamp exercises will focus on the fundamentals of the language. Today's exercise will just involve tweaking some pre-written code. \n",
    "\n",
    "A couple of notes:\n",
    "* We're using a jupyter notebook, a web-browser based interactive programming environment that allows you to execute \"cells\" or blocks of code in chunks. Any variables you assign will persist across different cells. \n",
    "* To execute a block of code, hit \"shift\" + \"enter\". Alternatively, you can use the \"Run cell\" button in the toolbar above. \n",
    "\n",
    "\n",
    "\n",
    "\n"
   ]
  },
  {
   "cell_type": "markdown",
   "metadata": {
    "deletable": true,
    "editable": true
   },
   "source": [
    "The first thing we do when creating a new Jupyter notebook is import all of the packages we'll need for our analysis. For today's example, we just need the pandas package, which we'll alias as pd. "
   ]
  },
  {
   "cell_type": "code",
   "execution_count": 1,
   "metadata": {
    "collapsed": false,
    "deletable": true,
    "editable": true
   },
   "outputs": [],
   "source": [
    "import pandas as pd\n",
    "\n",
    "%matplotlib inline"
   ]
  },
  {
   "cell_type": "markdown",
   "metadata": {
    "deletable": true,
    "editable": true
   },
   "source": [
    "Great. We're in business. But first, it's time for:\n",
    "\n",
    "### *A Very, Very Brief Overview of Python*\n",
    "\n",
    "Just for practice, we can assign a variable, print a statement, and modify the variable.  "
   ]
  },
  {
   "cell_type": "code",
   "execution_count": 2,
   "metadata": {
    "collapsed": false,
    "deletable": true,
    "editable": true
   },
   "outputs": [
    {
     "name": "stdout",
     "output_type": "stream",
     "text": [
      "Using Python like a rockstar\n"
     ]
    }
   ],
   "source": [
    "a = 3\n",
    "print('Using Python like a rockstar')"
   ]
  },
  {
   "cell_type": "code",
   "execution_count": 3,
   "metadata": {
    "collapsed": false,
    "deletable": true,
    "editable": true
   },
   "outputs": [
    {
     "data": {
      "text/plain": [
       "5"
      ]
     },
     "execution_count": 3,
     "metadata": {},
     "output_type": "execute_result"
    }
   ],
   "source": [
    "a = a + 2\n",
    "a"
   ]
  },
  {
   "cell_type": "markdown",
   "metadata": {
    "deletable": true,
    "editable": true
   },
   "source": [
    "As a reminder, variables in Python are dynamically typed, so we can assign a string to our *a* variable, which was previously a *int*. "
   ]
  },
  {
   "cell_type": "code",
   "execution_count": 4,
   "metadata": {
    "collapsed": false,
    "deletable": true,
    "editable": true
   },
   "outputs": [
    {
     "name": "stdout",
     "output_type": "stream",
     "text": [
      "This is crazy!\n"
     ]
    }
   ],
   "source": [
    "a = 'crazy!'\n",
    "print('This is ' + a)"
   ]
  },
  {
   "cell_type": "markdown",
   "metadata": {
    "deletable": true,
    "editable": true
   },
   "source": [
    "## Our Data.\n",
    "\n",
    "This course is focused on using data to make sense of the world, so we'll do lots of hands on work with data. Each week, we'll explore a data set together, and see what we can learn about the world. \n",
    "\n",
    "### H1-B Visa Data. \n",
    "\n",
    "H1-B visas are among the most commonly used visas to hire skilled foreign workers in technology, finance, and other sectors. The government publicly discloses roles, titles, and pay for 1,000s of workers in the U.S. This publicly available gives us a sense of the going rate for data analysts, scientist, and engineers around the U.S. \n",
    "\n",
    "H1B data is made publicly available by the U.S. Department of Labor, and can be found [here](https://www.foreignlaborcert.doleta.gov/performancedata.cfm). Record layouts, including column definitions, are avilable [here](https://www.foreignlaborcert.doleta.gov/pdf/PerformanceData/2018/H-1B_FY18_Record_Layout_Q3.pdf) The CSV downloaded in this file in an extract of cases submitted in Q2 2018 from the most recent update to the data available in August 2018. \n",
    "\n",
    "\n",
    "#### Load data. \n",
    "Let's use the pandas package to load our data file into a dataframe. We're reading this from the web, but that's not problem, and we can handle the whole operation easily in one line. Note that pandas may warn us that the columns in the file contain mixed data types, but that's not something we need to worry about right now. "
   ]
  },
  {
   "cell_type": "code",
   "execution_count": 5,
   "metadata": {
    "collapsed": false,
    "deletable": true,
    "editable": true
   },
   "outputs": [
    {
     "name": "stderr",
     "output_type": "stream",
     "text": [
      "/Users/grant/anaconda/envs/py36/lib/python3.6/site-packages/IPython/core/interactiveshell.py:2785: DtypeWarning: Columns (16) have mixed types. Specify dtype option on import or set low_memory=False.\n",
      "  interactivity=interactivity, compiler=compiler, result=result)\n"
     ]
    }
   ],
   "source": [
    "df = pd.read_csv('https://grantmlong.com/data/H1B_data.csv')"
   ]
  },
  {
   "cell_type": "markdown",
   "metadata": {
    "deletable": true,
    "editable": true
   },
   "source": [
    "Now that we've got the data loaded, we can look quickly at both the first few rows and the column titles to get a sense of what we're dealing with. "
   ]
  },
  {
   "cell_type": "code",
   "execution_count": 6,
   "metadata": {
    "collapsed": false,
    "deletable": true,
    "editable": true
   },
   "outputs": [
    {
     "data": {
      "text/html": [
       "<div>\n",
       "<style scoped>\n",
       "    .dataframe tbody tr th:only-of-type {\n",
       "        vertical-align: middle;\n",
       "    }\n",
       "\n",
       "    .dataframe tbody tr th {\n",
       "        vertical-align: top;\n",
       "    }\n",
       "\n",
       "    .dataframe thead th {\n",
       "        text-align: right;\n",
       "    }\n",
       "</style>\n",
       "<table border=\"1\" class=\"dataframe\">\n",
       "  <thead>\n",
       "    <tr style=\"text-align: right;\">\n",
       "      <th></th>\n",
       "      <th>CASE_NUMBER</th>\n",
       "      <th>CASE_STATUS</th>\n",
       "      <th>CASE_SUBMITTED</th>\n",
       "      <th>DECISION_DATE</th>\n",
       "      <th>VISA_CLASS</th>\n",
       "      <th>EMPLOYMENT_START_DATE</th>\n",
       "      <th>EMPLOYMENT_END_DATE</th>\n",
       "      <th>EMPLOYER_NAME</th>\n",
       "      <th>EMPLOYER_BUSINESS_DBA</th>\n",
       "      <th>EMPLOYER_ADDRESS</th>\n",
       "      <th>...</th>\n",
       "      <th>H1B_DEPENDENT</th>\n",
       "      <th>WILLFUL_VIOLATOR</th>\n",
       "      <th>SUPPORT_H1B</th>\n",
       "      <th>LABOR_CON_AGREE</th>\n",
       "      <th>PUBLIC_DISCLOSURE_LOCATION</th>\n",
       "      <th>WORKSITE_CITY</th>\n",
       "      <th>WORKSITE_COUNTY</th>\n",
       "      <th>WORKSITE_STATE</th>\n",
       "      <th>WORKSITE_POSTAL_CODE</th>\n",
       "      <th>ORIGINAL_CERT_DATE</th>\n",
       "    </tr>\n",
       "  </thead>\n",
       "  <tbody>\n",
       "    <tr>\n",
       "      <th>0</th>\n",
       "      <td>I-200-18079-420782</td>\n",
       "      <td>WITHDRAWN</td>\n",
       "      <td>2018-04-01</td>\n",
       "      <td>2018-04-01</td>\n",
       "      <td>H-1B</td>\n",
       "      <td>2018-10-01</td>\n",
       "      <td>2021-09-30</td>\n",
       "      <td>INTERSECT TECHNOLOGY INSTITUTE INC</td>\n",
       "      <td>ITI CABLING, INC</td>\n",
       "      <td>1200 S. ESCONDIDO BLVD</td>\n",
       "      <td>...</td>\n",
       "      <td>N</td>\n",
       "      <td>N</td>\n",
       "      <td>NaN</td>\n",
       "      <td>Y</td>\n",
       "      <td>NaN</td>\n",
       "      <td>SAN DIEGO</td>\n",
       "      <td>SAN DIEGO</td>\n",
       "      <td>CA</td>\n",
       "      <td>92129</td>\n",
       "      <td>NaN</td>\n",
       "    </tr>\n",
       "    <tr>\n",
       "      <th>1</th>\n",
       "      <td>I-200-18092-166315</td>\n",
       "      <td>WITHDRAWN</td>\n",
       "      <td>2018-04-02</td>\n",
       "      <td>2018-04-02</td>\n",
       "      <td>H-1B</td>\n",
       "      <td>2018-05-21</td>\n",
       "      <td>2021-05-20</td>\n",
       "      <td>OATEY COMPANY</td>\n",
       "      <td>NaN</td>\n",
       "      <td>20600 EMERALD PKWY</td>\n",
       "      <td>...</td>\n",
       "      <td>N</td>\n",
       "      <td>N</td>\n",
       "      <td>NaN</td>\n",
       "      <td>NaN</td>\n",
       "      <td>NaN</td>\n",
       "      <td>CLEVELAND</td>\n",
       "      <td>CUYAHOGA</td>\n",
       "      <td>OH</td>\n",
       "      <td>44135</td>\n",
       "      <td>NaN</td>\n",
       "    </tr>\n",
       "    <tr>\n",
       "      <th>2</th>\n",
       "      <td>I-200-18092-463281</td>\n",
       "      <td>WITHDRAWN</td>\n",
       "      <td>2018-04-02</td>\n",
       "      <td>2018-04-02</td>\n",
       "      <td>H-1B</td>\n",
       "      <td>2018-04-02</td>\n",
       "      <td>2021-04-01</td>\n",
       "      <td>WIPRO LIMITED</td>\n",
       "      <td>NaN</td>\n",
       "      <td>2 TOWER CENTER BLVD</td>\n",
       "      <td>...</td>\n",
       "      <td>Y</td>\n",
       "      <td>N</td>\n",
       "      <td>Y</td>\n",
       "      <td>NaN</td>\n",
       "      <td>NaN</td>\n",
       "      <td>CHARLOTTE</td>\n",
       "      <td>MECKLENBURG</td>\n",
       "      <td>NC</td>\n",
       "      <td>28208</td>\n",
       "      <td>NaN</td>\n",
       "    </tr>\n",
       "    <tr>\n",
       "      <th>3</th>\n",
       "      <td>I-200-18044-596134</td>\n",
       "      <td>WITHDRAWN</td>\n",
       "      <td>2018-04-02</td>\n",
       "      <td>2018-04-02</td>\n",
       "      <td>H-1B</td>\n",
       "      <td>2018-10-01</td>\n",
       "      <td>2019-07-29</td>\n",
       "      <td>SCHLUMBERGER TECHNOLOGY CORPORATION</td>\n",
       "      <td>NaN</td>\n",
       "      <td>3600 BRIARPARK DRIVE</td>\n",
       "      <td>...</td>\n",
       "      <td>N</td>\n",
       "      <td>N</td>\n",
       "      <td>NaN</td>\n",
       "      <td>NaN</td>\n",
       "      <td>NaN</td>\n",
       "      <td>HOUSTON</td>\n",
       "      <td>HARRIS</td>\n",
       "      <td>TX</td>\n",
       "      <td>77042</td>\n",
       "      <td>NaN</td>\n",
       "    </tr>\n",
       "    <tr>\n",
       "      <th>4</th>\n",
       "      <td>I-200-18086-513920</td>\n",
       "      <td>WITHDRAWN</td>\n",
       "      <td>2018-04-02</td>\n",
       "      <td>2018-04-02</td>\n",
       "      <td>H-1B</td>\n",
       "      <td>2018-08-23</td>\n",
       "      <td>2021-08-22</td>\n",
       "      <td>APPLEXUS TECHNOLOGIES LLC</td>\n",
       "      <td>NaN</td>\n",
       "      <td>33507 9TH AVENUE SOUTH</td>\n",
       "      <td>...</td>\n",
       "      <td>Y</td>\n",
       "      <td>N</td>\n",
       "      <td>Y</td>\n",
       "      <td>Y</td>\n",
       "      <td>NaN</td>\n",
       "      <td>THE WOODLANDS</td>\n",
       "      <td>MONTGOMERY</td>\n",
       "      <td>TX</td>\n",
       "      <td>77380</td>\n",
       "      <td>NaN</td>\n",
       "    </tr>\n",
       "  </tbody>\n",
       "</table>\n",
       "<p>5 rows × 52 columns</p>\n",
       "</div>"
      ],
      "text/plain": [
       "          CASE_NUMBER CASE_STATUS CASE_SUBMITTED DECISION_DATE VISA_CLASS  \\\n",
       "0  I-200-18079-420782   WITHDRAWN     2018-04-01    2018-04-01       H-1B   \n",
       "1  I-200-18092-166315   WITHDRAWN     2018-04-02    2018-04-02       H-1B   \n",
       "2  I-200-18092-463281   WITHDRAWN     2018-04-02    2018-04-02       H-1B   \n",
       "3  I-200-18044-596134   WITHDRAWN     2018-04-02    2018-04-02       H-1B   \n",
       "4  I-200-18086-513920   WITHDRAWN     2018-04-02    2018-04-02       H-1B   \n",
       "\n",
       "  EMPLOYMENT_START_DATE EMPLOYMENT_END_DATE  \\\n",
       "0            2018-10-01          2021-09-30   \n",
       "1            2018-05-21          2021-05-20   \n",
       "2            2018-04-02          2021-04-01   \n",
       "3            2018-10-01          2019-07-29   \n",
       "4            2018-08-23          2021-08-22   \n",
       "\n",
       "                         EMPLOYER_NAME EMPLOYER_BUSINESS_DBA  \\\n",
       "0   INTERSECT TECHNOLOGY INSTITUTE INC      ITI CABLING, INC   \n",
       "1                        OATEY COMPANY                   NaN   \n",
       "2                        WIPRO LIMITED                   NaN   \n",
       "3  SCHLUMBERGER TECHNOLOGY CORPORATION                   NaN   \n",
       "4            APPLEXUS TECHNOLOGIES LLC                   NaN   \n",
       "\n",
       "         EMPLOYER_ADDRESS        ...         H1B_DEPENDENT WILLFUL_VIOLATOR  \\\n",
       "0  1200 S. ESCONDIDO BLVD        ...                     N                N   \n",
       "1      20600 EMERALD PKWY        ...                     N                N   \n",
       "2     2 TOWER CENTER BLVD        ...                     Y                N   \n",
       "3    3600 BRIARPARK DRIVE        ...                     N                N   \n",
       "4  33507 9TH AVENUE SOUTH        ...                     Y                N   \n",
       "\n",
       "  SUPPORT_H1B LABOR_CON_AGREE PUBLIC_DISCLOSURE_LOCATION  WORKSITE_CITY  \\\n",
       "0         NaN               Y                        NaN      SAN DIEGO   \n",
       "1         NaN             NaN                        NaN      CLEVELAND   \n",
       "2           Y             NaN                        NaN      CHARLOTTE   \n",
       "3         NaN             NaN                        NaN        HOUSTON   \n",
       "4           Y               Y                        NaN  THE WOODLANDS   \n",
       "\n",
       "  WORKSITE_COUNTY WORKSITE_STATE WORKSITE_POSTAL_CODE ORIGINAL_CERT_DATE  \n",
       "0       SAN DIEGO             CA                92129                NaN  \n",
       "1        CUYAHOGA             OH                44135                NaN  \n",
       "2     MECKLENBURG             NC                28208                NaN  \n",
       "3          HARRIS             TX                77042                NaN  \n",
       "4      MONTGOMERY             TX                77380                NaN  \n",
       "\n",
       "[5 rows x 52 columns]"
      ]
     },
     "execution_count": 6,
     "metadata": {},
     "output_type": "execute_result"
    }
   ],
   "source": [
    "df.head(5)"
   ]
  },
  {
   "cell_type": "markdown",
   "metadata": {
    "deletable": true,
    "editable": true
   },
   "source": [
    "If you look closely, you'll notice that some of the columns in the middle were hidden. Fear not! Pandas allows us to print a full list of columns:"
   ]
  },
  {
   "cell_type": "code",
   "execution_count": 7,
   "metadata": {
    "collapsed": false,
    "deletable": true,
    "editable": true
   },
   "outputs": [
    {
     "name": "stdout",
     "output_type": "stream",
     "text": [
      "['CASE_NUMBER', 'CASE_STATUS', 'CASE_SUBMITTED', 'DECISION_DATE', 'VISA_CLASS', 'EMPLOYMENT_START_DATE', 'EMPLOYMENT_END_DATE', 'EMPLOYER_NAME', 'EMPLOYER_BUSINESS_DBA', 'EMPLOYER_ADDRESS', 'EMPLOYER_CITY', 'EMPLOYER_STATE', 'EMPLOYER_POSTAL_CODE', 'EMPLOYER_COUNTRY', 'EMPLOYER_PROVINCE', 'EMPLOYER_PHONE', 'EMPLOYER_PHONE_EXT', 'AGENT_REPRESENTING_EMPLOYER', 'AGENT_ATTORNEY_NAME', 'AGENT_ATTORNEY_CITY', 'AGENT_ATTORNEY_STATE', 'JOB_TITLE', 'SOC_CODE', 'SOC_NAME', 'NAICS_CODE', 'TOTAL_WORKERS', 'NEW_EMPLOYMENT', 'CONTINUED_EMPLOYMENT', 'CHANGE_PREVIOUS_EMPLOYMENT', 'NEW_CONCURRENT_EMP', 'CHANGE_EMPLOYER', 'AMENDED_PETITION', 'FULL_TIME_POSITION', 'PREVAILING_WAGE', 'PW_UNIT_OF_PAY', 'PW_WAGE_LEVEL', 'PW_SOURCE', 'PW_SOURCE_YEAR', 'PW_SOURCE_OTHER', 'WAGE_RATE_OF_PAY_FROM', 'WAGE_RATE_OF_PAY_TO', 'WAGE_UNIT_OF_PAY', 'H1B_DEPENDENT', 'WILLFUL_VIOLATOR', 'SUPPORT_H1B', 'LABOR_CON_AGREE', 'PUBLIC_DISCLOSURE_LOCATION', 'WORKSITE_CITY', 'WORKSITE_COUNTY', 'WORKSITE_STATE', 'WORKSITE_POSTAL_CODE', 'ORIGINAL_CERT_DATE']\n"
     ]
    }
   ],
   "source": [
    "print(list(df))"
   ]
  },
  {
   "cell_type": "markdown",
   "metadata": {
    "deletable": true,
    "editable": true
   },
   "source": [
    "## Digging A Little Deeper\n",
    "\n",
    "Pandas has plenty of built-in functionality that makes it easy to find summary stats about the data we're working with. "
   ]
  },
  {
   "cell_type": "code",
   "execution_count": 8,
   "metadata": {
    "collapsed": false,
    "deletable": true,
    "editable": true
   },
   "outputs": [
    {
     "name": "stdout",
     "output_type": "stream",
     "text": [
      "(111387, 52)\n",
      "111387\n"
     ]
    }
   ],
   "source": [
    "print(df.shape)\n",
    "print(len(df))"
   ]
  },
  {
   "cell_type": "markdown",
   "metadata": {
    "deletable": true,
    "editable": true
   },
   "source": [
    "[`.describe()`](https://pandas.pydata.org/pandas-docs/stable/generated/pandas.DataFrame.describe.html) gives us basic summary stats for one or more columns."
   ]
  },
  {
   "cell_type": "code",
   "execution_count": 9,
   "metadata": {
    "collapsed": false,
    "deletable": true,
    "editable": true
   },
   "outputs": [
    {
     "data": {
      "text/plain": [
       "count     111387\n",
       "mean       96400\n",
       "std        51084\n",
       "min            0\n",
       "25%        72800\n",
       "50%        90437\n",
       "75%       115000\n",
       "max      1300000\n",
       "Name: WAGE_RATE_OF_PAY_FROM, dtype: int64"
      ]
     },
     "execution_count": 9,
     "metadata": {},
     "output_type": "execute_result"
    }
   ],
   "source": [
    "df.WAGE_RATE_OF_PAY_FROM.describe().astype(int)"
   ]
  },
  {
   "cell_type": "markdown",
   "metadata": {
    "deletable": true,
    "editable": true
   },
   "source": [
    "[`.value_counts()`](https://pandas.pydata.org/pandas-docs/stable/generated/pandas.Series.value_counts.html) gives us a series of values and the number of time they appear in a categorical data set."
   ]
  },
  {
   "cell_type": "code",
   "execution_count": 10,
   "metadata": {
    "collapsed": false,
    "deletable": true,
    "editable": true
   },
   "outputs": [
    {
     "data": {
      "text/plain": [
       "CERTIFIED              105246\n",
       "WITHDRAWN                2898\n",
       "CERTIFIED-WITHDRAWN      1645\n",
       "DENIED                   1598\n",
       "Name: CASE_STATUS, dtype: int64"
      ]
     },
     "execution_count": 10,
     "metadata": {},
     "output_type": "execute_result"
    }
   ],
   "source": [
    "df['CASE_STATUS'].value_counts()"
   ]
  },
  {
   "cell_type": "code",
   "execution_count": 11,
   "metadata": {
    "collapsed": false,
    "deletable": true,
    "editable": true
   },
   "outputs": [
    {
     "data": {
      "text/plain": [
       "NEW YORK         6812\n",
       "SAN FRANCISCO    3011\n",
       "CHICAGO          2279\n",
       "HOUSTON          2206\n",
       "SAN JOSE         1968\n",
       "ATLANTA          1935\n",
       "SUNNYVALE        1912\n",
       "SEATTLE          1617\n",
       "AUSTIN           1413\n",
       "BOSTON           1371\n",
       "Name: WORKSITE_CITY, dtype: int64"
      ]
     },
     "execution_count": 11,
     "metadata": {},
     "output_type": "execute_result"
    }
   ],
   "source": [
    "df.WORKSITE_CITY.value_counts().head(10)"
   ]
  },
  {
   "cell_type": "code",
   "execution_count": 12,
   "metadata": {
    "collapsed": false,
    "deletable": true,
    "editable": true
   },
   "outputs": [
    {
     "data": {
      "text/plain": [
       "SOFTWARE DEVELOPER           5077\n",
       "SOFTWARE ENGINEER            4593\n",
       "SENIOR SOFTWARE ENGINEER     1841\n",
       "ASSISTANT PROFESSOR          1725\n",
       "PROGRAMMER ANALYST           1476\n",
       "DEVELOPER                    1121\n",
       "SENIOR CONSULTANT            1049\n",
       "SYSTEMS ANALYST               832\n",
       "CONSULTANT                    811\n",
       "SENIOR SOFTWARE DEVELOPER     788\n",
       "Name: JOB_TITLE, dtype: int64"
      ]
     },
     "execution_count": 12,
     "metadata": {},
     "output_type": "execute_result"
    }
   ],
   "source": [
    "df.JOB_TITLE.value_counts().head(10)"
   ]
  },
  {
   "cell_type": "markdown",
   "metadata": {
    "deletable": true,
    "editable": true
   },
   "source": [
    "Finally, pandas also includes has some basic visualization functionality, including [`.hist()`](https://pandas.pydata.org/pandas-docs/stable/generated/pandas.DataFrame.hist.html)"
   ]
  },
  {
   "cell_type": "code",
   "execution_count": 13,
   "metadata": {
    "collapsed": false,
    "deletable": true,
    "editable": true
   },
   "outputs": [
    {
     "data": {
      "text/plain": [
       "<matplotlib.axes._subplots.AxesSubplot at 0x10619d208>"
      ]
     },
     "execution_count": 13,
     "metadata": {},
     "output_type": "execute_result"
    },
    {
     "data": {
      "image/png": "[encoded data removed]",
      "text/plain": [
       "<Figure size 432x288 with 1 Axes>"
      ]
     },
     "metadata": {},
     "output_type": "display_data"
    }
   ],
   "source": [
    "df.WAGE_RATE_OF_PAY_FROM.hist()"
   ]
  },
  {
   "cell_type": "markdown",
   "metadata": {
    "deletable": true,
    "editable": true
   },
   "source": [
    "#### *Exercise:* Which ten employers hired the most workers?"
   ]
  },
  {
   "cell_type": "code",
   "execution_count": 14,
   "metadata": {
    "collapsed": false,
    "deletable": true,
    "editable": true
   },
   "outputs": [],
   "source": [
    "# todo: top 10 employers by visa count"
   ]
  },
  {
   "cell_type": "markdown",
   "metadata": {
    "deletable": true,
    "editable": true
   },
   "source": [
    "## Slicing and Dicing\n",
    "\n",
    "#### To get information relevant to our class, we'll need find a little more detail on particular employers, jobs, and locations. \n",
    "\n",
    "Pandas has a deep arrays of tools that allow for a wide range of in-memory filtering and data extraction, including SQL-like functionality. As is the case with many pandas functions, there is often more than one way to do the same thing.  \n",
    "\n",
    "Generally, the best way to query data frames is using the [`.loc[]`](https://pandas.pydata.org/pandas-docs/stable/generated/pandas.DataFrame.loc.html) functionality, essentially allows the user to enter conditions filtering the rows and columns.   "
   ]
  },
  {
   "cell_type": "code",
   "execution_count": 15,
   "metadata": {
    "collapsed": false,
    "deletable": true,
    "editable": true
   },
   "outputs": [
    {
     "data": {
      "text/plain": [
       "ASSOCIATE                    279\n",
       "VICE PRESIDENT               181\n",
       "SOFTWARE ENGINEER            176\n",
       "SOFTWARE DEVELOPER           139\n",
       "SENIOR SOFTWARE ENGINEER     120\n",
       "ARCHITECT                     68\n",
       "HOUSE STAFF, RESIDENT         64\n",
       "ADVISORY SENIOR ASSOCIATE     62\n",
       "MANAGER                       61\n",
       "CONSULTANT                    59\n",
       "Name: JOB_TITLE, dtype: int64"
      ]
     },
     "execution_count": 15,
     "metadata": {},
     "output_type": "execute_result"
    }
   ],
   "source": [
    "df.loc[(df.WORKSITE_CITY=='NEW YORK'), 'JOB_TITLE'].value_counts().head(10)"
   ]
  },
  {
   "cell_type": "code",
   "execution_count": 16,
   "metadata": {
    "collapsed": false,
    "deletable": true,
    "editable": true
   },
   "outputs": [
    {
     "data": {
      "text/plain": [
       "FACEBOOK, INC.                            42\n",
       "MICROSOFT CORPORATION                      8\n",
       "APPLE INC.                                 6\n",
       "AMAZON WEB SERVICES, INC.                  5\n",
       "AIRBNB, INC.                               5\n",
       "FORD MOTOR COMPANY                         5\n",
       "MEMORIAL SLOAN-KETTERING CANCER CENTER     4\n",
       "INCEDO INC                                 2\n",
       "AIM BIG INC                                2\n",
       "IBM CORPORATION                            2\n",
       "Name: EMPLOYER_NAME, dtype: int64"
      ]
     },
     "execution_count": 16,
     "metadata": {},
     "output_type": "execute_result"
    }
   ],
   "source": [
    "df.EMPLOYER_NAME.loc[(df.JOB_TITLE=='DATA SCIENTIST')].value_counts().head(10)"
   ]
  },
  {
   "cell_type": "markdown",
   "metadata": {
    "deletable": true,
    "editable": true
   },
   "source": [
    "#### *Exercise:* Which ten employers hired the most workers with salaries over $100,000?\n"
   ]
  },
  {
   "cell_type": "code",
   "execution_count": 17,
   "metadata": {
    "collapsed": true,
    "deletable": true,
    "editable": true
   },
   "outputs": [],
   "source": [
    "# todo: top 10 employers by visa count for salaries over $100,000"
   ]
  },
  {
   "cell_type": "markdown",
   "metadata": {
    "deletable": true,
    "editable": true
   },
   "source": [
    "## Advanced Functionality\n",
    "\n",
    "Pandas also has functionality to handle more complex datatypes, including:\n",
    "1. Time functionality to handle dates. \n",
    "2. Regular expression functionality to handle text "
   ]
  },
  {
   "cell_type": "markdown",
   "metadata": {
    "deletable": true,
    "editable": true
   },
   "source": [
    "##### Let's first do some basic transformations of some of our columns to make them easier to work with:"
   ]
  },
  {
   "cell_type": "code",
   "execution_count": 18,
   "metadata": {
    "collapsed": false,
    "deletable": true,
    "editable": true
   },
   "outputs": [
    {
     "name": "stdout",
     "output_type": "stream",
     "text": [
      "['2018-04-01' '2018-04-02' '2018-04-02' '2018-04-02' '2018-04-02']\n",
      "['2018-04-01T00:00:00.000000000' '2018-04-02T00:00:00.000000000'\n",
      " '2018-04-02T00:00:00.000000000' '2018-04-02T00:00:00.000000000'\n",
      " '2018-04-02T00:00:00.000000000']\n"
     ]
    }
   ],
   "source": [
    "# Some of our date columns are a little problematic:\n",
    "print(df.CASE_SUBMITTED.values[:5])\n",
    "\n",
    "# These looks a lot like strings, but we can transform them to dates, or \"datetime\" objects in pandas\n",
    "print(pd.to_datetime(df.CASE_SUBMITTED).values[:5])\n",
    "\n",
    "# To make these easier to work with, we can create a new column for the transformed date\n",
    "df['submission_date'] = pd.to_datetime(df.CASE_SUBMITTED)"
   ]
  },
  {
   "cell_type": "markdown",
   "metadata": {
    "deletable": true,
    "editable": true
   },
   "source": [
    "##### Now let's look at how we can use the datetime functionality to do some advanced filtering:"
   ]
  },
  {
   "cell_type": "code",
   "execution_count": 19,
   "metadata": {
    "collapsed": false,
    "deletable": true,
    "editable": true
   },
   "outputs": [
    {
     "data": {
      "text/plain": [
       "SOFTWARE DEVELOPER                     1278\n",
       "SOFTWARE ENGINEER                      1218\n",
       "SENIOR SOFTWARE ENGINEER                551\n",
       "ASSISTANT PROFESSOR                     470\n",
       "DEVELOPER                               331\n",
       "PROGRAMMER ANALYST                      329\n",
       "SENIOR CONSULTANT                       262\n",
       "TECHNOLOGY LEAD - US - PRACTITIONER     254\n",
       "SYSTEMS ANALYST                         226\n",
       "SENIOR SOFTWARE DEVELOPER               207\n",
       "Name: JOB_TITLE, dtype: int64"
      ]
     },
     "execution_count": 19,
     "metadata": {},
     "output_type": "execute_result"
    }
   ],
   "source": [
    "# Let's filter our set down to all of the records submitted in June 2018\n",
    "time_mask = (df.submission_date.dt.year==2018) & (df.submission_date.dt.month==6)\n",
    "\n",
    "df.loc[time_mask, 'JOB_TITLE'].value_counts().head(10)"
   ]
  },
  {
   "cell_type": "markdown",
   "metadata": {
    "collapsed": true,
    "deletable": true,
    "editable": true
   },
   "source": [
    "##### Pandas also includes built-in string handling, including [regular expression](https://pythex.org/) searches. \n",
    "\n",
    "We're primarily interested in data roles, so let's only look at the top firms hiring for those roles."
   ]
  },
  {
   "cell_type": "code",
   "execution_count": 20,
   "metadata": {
    "collapsed": false,
    "deletable": true,
    "editable": true
   },
   "outputs": [
    {
     "data": {
      "text/plain": [
       "TATA CONSULTANCY SERVICES LIMITED    140\n",
       "FACEBOOK, INC.                        82\n",
       "AMAZON WEB SERVICES, INC.             54\n",
       "AMAZON.COM SERVICES, INC.             41\n",
       "MICROSOFT CORPORATION                 34\n",
       "ERNST & YOUNG U.S. LLP                30\n",
       "CAPGEMINI AMERICA INC                 30\n",
       "IBM INDIA PRIVATE LIMITED             29\n",
       "CAPITAL ONE SERVICES, LLC             23\n",
       "APPLE INC.                            20\n",
       "Name: EMPLOYER_NAME, dtype: int64"
      ]
     },
     "execution_count": 20,
     "metadata": {},
     "output_type": "execute_result"
    }
   ],
   "source": [
    "data_roles = df.JOB_TITLE.str.contains(r'DATA')\n",
    "\n",
    "df.loc[data_roles, 'EMPLOYER_NAME'].value_counts().head(10)"
   ]
  },
  {
   "cell_type": "markdown",
   "metadata": {
    "collapsed": true,
    "deletable": true,
    "editable": true
   },
   "source": [
    "We can combine the mask we created in the preceding cell to find the top data roles with applications submitted in June."
   ]
  },
  {
   "cell_type": "code",
   "execution_count": 21,
   "metadata": {
    "collapsed": false,
    "deletable": true,
    "editable": true
   },
   "outputs": [
    {
     "data": {
      "text/plain": [
       "DATABASE ADMINISTRATOR           132\n",
       "DATA SCIENTIST                    62\n",
       "DATA ENGINEER                     34\n",
       "DATA WAREHOUSE SPECIALIST         33\n",
       "DATA ANALYST                      33\n",
       "SENIOR DATA ENGINEER              21\n",
       "DATABASE DEVELOPER                16\n",
       "SENIOR DATA ANALYST               15\n",
       "SENIOR DATA SCIENTIST             14\n",
       "ORACLE DATABASE ADMINISTRATOR     13\n",
       "Name: JOB_TITLE, dtype: int64"
      ]
     },
     "execution_count": 21,
     "metadata": {},
     "output_type": "execute_result"
    }
   ],
   "source": [
    "df.loc[data_roles & time_mask, 'JOB_TITLE'].value_counts().head(10)"
   ]
  },
  {
   "cell_type": "markdown",
   "metadata": {
    "deletable": true,
    "editable": true
   },
   "source": [
    "#### *Exercise:* What are the top worksites for \"engineers\"?\n"
   ]
  },
  {
   "cell_type": "code",
   "execution_count": 22,
   "metadata": {
    "collapsed": true,
    "deletable": true,
    "editable": true
   },
   "outputs": [],
   "source": [
    "# todo: top 10 cities for workers in \"engineer\" roles"
   ]
  },
  {
   "cell_type": "markdown",
   "metadata": {
    "deletable": true,
    "editable": true
   },
   "source": [
    "All super useful tricks. One last useful set:\n",
    "\n",
    "## Grouping and Calculating Summary Stats\n",
    "\n",
    "Our last task will be to explore the [`groupby()`](https://pandas.pydata.org/pandas-docs/stable/generated/pandas.DataFrame.groupby.html) and [`.agg()`](https://pandas.pydata.org/pandas-docs/stable/generated/pandas.core.groupby.DataFrameGroupBy.agg.html) functionality to calculate some basic stats on slices of data, along with the [`sort_values()`](https://pandas.pydata.org/pandas-docs/stable/generated/pandas.DataFrame.sort_values.html) to get a sense to the top ranking values.\n",
    "\n",
    "Let's face it, we're interest in how much folks in data roles get paid. Let's take a look.\n"
   ]
  },
  {
   "cell_type": "code",
   "execution_count": 23,
   "metadata": {
    "collapsed": false,
    "deletable": true,
    "editable": true
   },
   "outputs": [
    {
     "data": {
      "text/plain": [
       "95808.0"
      ]
     },
     "execution_count": 23,
     "metadata": {},
     "output_type": "execute_result"
    }
   ],
   "source": [
    "df.loc[data_roles, 'WAGE_RATE_OF_PAY_FROM'].median()"
   ]
  },
  {
   "cell_type": "markdown",
   "metadata": {
    "deletable": true,
    "editable": true
   },
   "source": [
    "Great, that gives a general sense of the median pay for data roles, but how does that differ by role?"
   ]
  },
  {
   "cell_type": "code",
   "execution_count": 24,
   "metadata": {
    "collapsed": false,
    "deletable": true,
    "editable": true
   },
   "outputs": [
    {
     "data": {
      "text/html": [
       "<div>\n",
       "<style scoped>\n",
       "    .dataframe tbody tr th:only-of-type {\n",
       "        vertical-align: middle;\n",
       "    }\n",
       "\n",
       "    .dataframe tbody tr th {\n",
       "        vertical-align: top;\n",
       "    }\n",
       "\n",
       "    .dataframe thead th {\n",
       "        text-align: right;\n",
       "    }\n",
       "</style>\n",
       "<table border=\"1\" class=\"dataframe\">\n",
       "  <thead>\n",
       "    <tr style=\"text-align: right;\">\n",
       "      <th></th>\n",
       "      <th>WAGE_RATE_OF_PAY_FROM</th>\n",
       "    </tr>\n",
       "    <tr>\n",
       "      <th>JOB_TITLE</th>\n",
       "      <th></th>\n",
       "    </tr>\n",
       "  </thead>\n",
       "  <tbody>\n",
       "    <tr>\n",
       "      <th>.NET DATABASE ADMIN</th>\n",
       "      <td>80000.00</td>\n",
       "    </tr>\n",
       "    <tr>\n",
       "      <th>ACCESS DATABASE DEVELOPER</th>\n",
       "      <td>27.18</td>\n",
       "    </tr>\n",
       "    <tr>\n",
       "      <th>ADMINISTRATOR 4, DATABASE ADMINISTRATION</th>\n",
       "      <td>103500.00</td>\n",
       "    </tr>\n",
       "    <tr>\n",
       "      <th>ADMINISTRATOR DATABASE 3</th>\n",
       "      <td>94000.00</td>\n",
       "    </tr>\n",
       "    <tr>\n",
       "      <th>ADMISSIONS CRM DATABASE ADMINISTRATOR</th>\n",
       "      <td>51000.00</td>\n",
       "    </tr>\n",
       "    <tr>\n",
       "      <th>ADVANCED DATA SCIENTIST</th>\n",
       "      <td>160000.00</td>\n",
       "    </tr>\n",
       "    <tr>\n",
       "      <th>ADVANCED DATA SCIENTIST, LEAD</th>\n",
       "      <td>98000.00</td>\n",
       "    </tr>\n",
       "    <tr>\n",
       "      <th>ADVANCED DATA WAREHOUSE ADMINISTRATOR</th>\n",
       "      <td>119164.58</td>\n",
       "    </tr>\n",
       "    <tr>\n",
       "      <th>ADVANCED DATABASE ADMINISTRATOR</th>\n",
       "      <td>49.00</td>\n",
       "    </tr>\n",
       "    <tr>\n",
       "      <th>ADVISOR, ARCHITECTURE (TERADATA DATABASE ARCHITECT)</th>\n",
       "      <td>113764.00</td>\n",
       "    </tr>\n",
       "    <tr>\n",
       "      <th>ADVISOR, DATA SCIENCE</th>\n",
       "      <td>78795.00</td>\n",
       "    </tr>\n",
       "    <tr>\n",
       "      <th>AGRICULTURAL DATA SCIENTIST</th>\n",
       "      <td>61963.00</td>\n",
       "    </tr>\n",
       "    <tr>\n",
       "      <th>AIDDATA PROGRAM MANAGER</th>\n",
       "      <td>52000.00</td>\n",
       "    </tr>\n",
       "    <tr>\n",
       "      <th>AML DATA ANALYST</th>\n",
       "      <td>125000.00</td>\n",
       "    </tr>\n",
       "    <tr>\n",
       "      <th>ANALYST - HUMAN CAPITAL DATA SYSTEMS</th>\n",
       "      <td>70700.00</td>\n",
       "    </tr>\n",
       "    <tr>\n",
       "      <th>ANALYST - SENIOR DATA SCIENTIST, OPERATIONS RESEARCH</th>\n",
       "      <td>159300.00</td>\n",
       "    </tr>\n",
       "    <tr>\n",
       "      <th>ANALYST, ANALYTICS AND DATA PRODUCTS</th>\n",
       "      <td>94512.00</td>\n",
       "    </tr>\n",
       "    <tr>\n",
       "      <th>ANALYST, DATA &amp; ANALYSIS</th>\n",
       "      <td>55000.00</td>\n",
       "    </tr>\n",
       "    <tr>\n",
       "      <th>ANALYST, DATA INFORMATICS</th>\n",
       "      <td>72984.00</td>\n",
       "    </tr>\n",
       "    <tr>\n",
       "      <th>ANALYST, DATA QUALITY</th>\n",
       "      <td>77043.00</td>\n",
       "    </tr>\n",
       "    <tr>\n",
       "      <th>ANALYST, DATABASE ADMINISTRATION</th>\n",
       "      <td>55600.00</td>\n",
       "    </tr>\n",
       "    <tr>\n",
       "      <th>ANALYST, WAREHOUSE DATA</th>\n",
       "      <td>85000.00</td>\n",
       "    </tr>\n",
       "    <tr>\n",
       "      <th>ANALYTIC/DATA WAREHOUSE DASHBOARD PROGRAMMER</th>\n",
       "      <td>103716.00</td>\n",
       "    </tr>\n",
       "    <tr>\n",
       "      <th>ANALYTICS DATA SCIENTIST</th>\n",
       "      <td>108000.00</td>\n",
       "    </tr>\n",
       "    <tr>\n",
       "      <th>ANALYTICS SENIOR DATA SCIENTIST</th>\n",
       "      <td>122158.00</td>\n",
       "    </tr>\n",
       "    <tr>\n",
       "      <th>ANALYTICS/DATA WAREHOUSE DASHBOARD PROGRAMMER</th>\n",
       "      <td>90000.00</td>\n",
       "    </tr>\n",
       "    <tr>\n",
       "      <th>APPLICATION AND DATA INTEGRATION TECHNICAL LEAD</th>\n",
       "      <td>99715.20</td>\n",
       "    </tr>\n",
       "    <tr>\n",
       "      <th>APPLICATION DATA ANALYST</th>\n",
       "      <td>54.10</td>\n",
       "    </tr>\n",
       "    <tr>\n",
       "      <th>APPLICATION DATABASE ADMINISTRATOR</th>\n",
       "      <td>85500.00</td>\n",
       "    </tr>\n",
       "    <tr>\n",
       "      <th>APPLICATION DEVELOPER (TERADATA)</th>\n",
       "      <td>105000.00</td>\n",
       "    </tr>\n",
       "    <tr>\n",
       "      <th>...</th>\n",
       "      <td>...</td>\n",
       "    </tr>\n",
       "    <tr>\n",
       "      <th>TERADATA DEVELOPER</th>\n",
       "      <td>86500.00</td>\n",
       "    </tr>\n",
       "    <tr>\n",
       "      <th>TEST AUTOMATION ENGINEER, DATA ANALYSIS</th>\n",
       "      <td>129605.00</td>\n",
       "    </tr>\n",
       "    <tr>\n",
       "      <th>TEST AUTOMATION ENGINEER, SWE DATA ANALYTICS</th>\n",
       "      <td>130000.00</td>\n",
       "    </tr>\n",
       "    <tr>\n",
       "      <th>TEST DATA ANALYST</th>\n",
       "      <td>72467.00</td>\n",
       "    </tr>\n",
       "    <tr>\n",
       "      <th>TEST DATA ARCHITECT</th>\n",
       "      <td>107900.00</td>\n",
       "    </tr>\n",
       "    <tr>\n",
       "      <th>TEST DATA MANAGEMENT ANALYST</th>\n",
       "      <td>60362.00</td>\n",
       "    </tr>\n",
       "    <tr>\n",
       "      <th>TEST DATA MANAGEMENT CONSULTANT</th>\n",
       "      <td>83500.00</td>\n",
       "    </tr>\n",
       "    <tr>\n",
       "      <th>TIER 3 US - SQL DATABASE ADMINISTRATOR</th>\n",
       "      <td>118581.84</td>\n",
       "    </tr>\n",
       "    <tr>\n",
       "      <th>UNIX DATABASE ADMINISTRATOR</th>\n",
       "      <td>73000.00</td>\n",
       "    </tr>\n",
       "    <tr>\n",
       "      <th>VEHICLE DATA ENGINEER II</th>\n",
       "      <td>90000.00</td>\n",
       "    </tr>\n",
       "    <tr>\n",
       "      <th>VERTICA BIG DATA ADMINISTRATOR</th>\n",
       "      <td>96928.00</td>\n",
       "    </tr>\n",
       "    <tr>\n",
       "      <th>VICE PRESIDENT (DATABASE MANAGEMENT ANALYST)</th>\n",
       "      <td>123000.00</td>\n",
       "    </tr>\n",
       "    <tr>\n",
       "      <th>VICE PRESIDENT DAS (DATA &amp; APPLICATION SOLUTIONS)</th>\n",
       "      <td>116000.00</td>\n",
       "    </tr>\n",
       "    <tr>\n",
       "      <th>VICE PRESIDENT DAS (DATA APPLICATION SOLUTIONS)</th>\n",
       "      <td>117000.00</td>\n",
       "    </tr>\n",
       "    <tr>\n",
       "      <th>VICE PRESIDENT OF DATA SCIENCE</th>\n",
       "      <td>140000.00</td>\n",
       "    </tr>\n",
       "    <tr>\n",
       "      <th>VICE PRESIDENT, BIG DATA MODELING</th>\n",
       "      <td>116646.00</td>\n",
       "    </tr>\n",
       "    <tr>\n",
       "      <th>VICE PRESIDENT, DATA</th>\n",
       "      <td>230000.00</td>\n",
       "    </tr>\n",
       "    <tr>\n",
       "      <th>VICE PRESIDENT, DATA ACQUISITION</th>\n",
       "      <td>96000.00</td>\n",
       "    </tr>\n",
       "    <tr>\n",
       "      <th>VICE PRESIDENT, DATA MANAGEMENT LEAD</th>\n",
       "      <td>135000.00</td>\n",
       "    </tr>\n",
       "    <tr>\n",
       "      <th>VICE PRESIDENT, DATABASE MANAGEMENT</th>\n",
       "      <td>160000.00</td>\n",
       "    </tr>\n",
       "    <tr>\n",
       "      <th>VICE PRESIDENT, ENTERPRISE DATA DEVELOPER</th>\n",
       "      <td>160000.00</td>\n",
       "    </tr>\n",
       "    <tr>\n",
       "      <th>VICE PRESIDENT, MARKETING DATA OPERATIONS</th>\n",
       "      <td>197000.00</td>\n",
       "    </tr>\n",
       "    <tr>\n",
       "      <th>VICE PRESIDENT, MODELING DATA ANALYTICS</th>\n",
       "      <td>125000.00</td>\n",
       "    </tr>\n",
       "    <tr>\n",
       "      <th>VICE PRESIDENT; DATA SCIENTIST I</th>\n",
       "      <td>131325.00</td>\n",
       "    </tr>\n",
       "    <tr>\n",
       "      <th>VICE PRESIDENT; SPECIALIST - SYS/DATA SECURITY</th>\n",
       "      <td>110000.00</td>\n",
       "    </tr>\n",
       "    <tr>\n",
       "      <th>VP &amp; HEAD  DATA ANALYTICS PRACTICE</th>\n",
       "      <td>175000.00</td>\n",
       "    </tr>\n",
       "    <tr>\n",
       "      <th>VP, CCAR DATA SERVICES TECH LEAD (15-1199.09)</th>\n",
       "      <td>160000.00</td>\n",
       "    </tr>\n",
       "    <tr>\n",
       "      <th>VP, DATA AND MEDIA SOLUTIONS</th>\n",
       "      <td>210000.00</td>\n",
       "    </tr>\n",
       "    <tr>\n",
       "      <th>VP, STORAGE, DATA PROTECTION ARCHITECTURE &amp; DELIVERY SERVICE</th>\n",
       "      <td>160000.00</td>\n",
       "    </tr>\n",
       "    <tr>\n",
       "      <th>WEB/DATABASE DEVELOPER</th>\n",
       "      <td>66040.00</td>\n",
       "    </tr>\n",
       "  </tbody>\n",
       "</table>\n",
       "<p>1417 rows × 1 columns</p>\n",
       "</div>"
      ],
      "text/plain": [
       "                                                    WAGE_RATE_OF_PAY_FROM\n",
       "JOB_TITLE                                                                \n",
       ".NET DATABASE ADMIN                                              80000.00\n",
       "ACCESS DATABASE DEVELOPER                                           27.18\n",
       "ADMINISTRATOR 4, DATABASE ADMINISTRATION                        103500.00\n",
       "ADMINISTRATOR DATABASE 3                                         94000.00\n",
       "ADMISSIONS CRM DATABASE ADMINISTRATOR                            51000.00\n",
       "ADVANCED DATA SCIENTIST                                         160000.00\n",
       "ADVANCED DATA SCIENTIST, LEAD                                    98000.00\n",
       "ADVANCED DATA WAREHOUSE ADMINISTRATOR                           119164.58\n",
       "ADVANCED DATABASE ADMINISTRATOR                                     49.00\n",
       "ADVISOR, ARCHITECTURE (TERADATA DATABASE ARCHIT...              113764.00\n",
       "ADVISOR, DATA SCIENCE                                            78795.00\n",
       "AGRICULTURAL DATA SCIENTIST                                      61963.00\n",
       "AIDDATA PROGRAM MANAGER                                          52000.00\n",
       "AML DATA ANALYST                                                125000.00\n",
       "ANALYST - HUMAN CAPITAL DATA SYSTEMS                             70700.00\n",
       "ANALYST - SENIOR DATA SCIENTIST, OPERATIONS RES...              159300.00\n",
       "ANALYST, ANALYTICS AND DATA PRODUCTS                             94512.00\n",
       "ANALYST, DATA & ANALYSIS                                         55000.00\n",
       "ANALYST, DATA INFORMATICS                                        72984.00\n",
       "ANALYST, DATA QUALITY                                            77043.00\n",
       "ANALYST, DATABASE ADMINISTRATION                                 55600.00\n",
       "ANALYST, WAREHOUSE DATA                                          85000.00\n",
       "ANALYTIC/DATA WAREHOUSE DASHBOARD PROGRAMMER                    103716.00\n",
       "ANALYTICS DATA SCIENTIST                                        108000.00\n",
       "ANALYTICS SENIOR DATA SCIENTIST                                 122158.00\n",
       "ANALYTICS/DATA WAREHOUSE DASHBOARD PROGRAMMER                    90000.00\n",
       "APPLICATION AND DATA INTEGRATION TECHNICAL LEAD                  99715.20\n",
       "APPLICATION DATA ANALYST                                            54.10\n",
       "APPLICATION DATABASE ADMINISTRATOR                               85500.00\n",
       "APPLICATION DEVELOPER (TERADATA)                                105000.00\n",
       "...                                                                   ...\n",
       "TERADATA DEVELOPER                                               86500.00\n",
       "TEST AUTOMATION ENGINEER, DATA ANALYSIS                         129605.00\n",
       "TEST AUTOMATION ENGINEER, SWE DATA ANALYTICS                    130000.00\n",
       "TEST DATA ANALYST                                                72467.00\n",
       "TEST DATA ARCHITECT                                             107900.00\n",
       "TEST DATA MANAGEMENT ANALYST                                     60362.00\n",
       "TEST DATA MANAGEMENT CONSULTANT                                  83500.00\n",
       "TIER 3 US - SQL DATABASE ADMINISTRATOR                          118581.84\n",
       "UNIX DATABASE ADMINISTRATOR                                      73000.00\n",
       "VEHICLE DATA ENGINEER II                                         90000.00\n",
       "VERTICA BIG DATA ADMINISTRATOR                                   96928.00\n",
       "VICE PRESIDENT (DATABASE MANAGEMENT ANALYST)                    123000.00\n",
       "VICE PRESIDENT DAS (DATA & APPLICATION SOLUTIONS)               116000.00\n",
       "VICE PRESIDENT DAS (DATA APPLICATION SOLUTIONS)                 117000.00\n",
       "VICE PRESIDENT OF DATA SCIENCE                                  140000.00\n",
       "VICE PRESIDENT, BIG DATA MODELING                               116646.00\n",
       "VICE PRESIDENT, DATA                                            230000.00\n",
       "VICE PRESIDENT, DATA ACQUISITION                                 96000.00\n",
       "VICE PRESIDENT, DATA MANAGEMENT LEAD                            135000.00\n",
       "VICE PRESIDENT, DATABASE MANAGEMENT                             160000.00\n",
       "VICE PRESIDENT, ENTERPRISE DATA DEVELOPER                       160000.00\n",
       "VICE PRESIDENT, MARKETING DATA OPERATIONS                       197000.00\n",
       "VICE PRESIDENT, MODELING DATA ANALYTICS                         125000.00\n",
       "VICE PRESIDENT; DATA SCIENTIST I                                131325.00\n",
       "VICE PRESIDENT; SPECIALIST - SYS/DATA SECURITY                  110000.00\n",
       "VP & HEAD  DATA ANALYTICS PRACTICE                              175000.00\n",
       "VP, CCAR DATA SERVICES TECH LEAD (15-1199.09)                   160000.00\n",
       "VP, DATA AND MEDIA SOLUTIONS                                    210000.00\n",
       "VP, STORAGE, DATA PROTECTION ARCHITECTURE & DEL...              160000.00\n",
       "WEB/DATABASE DEVELOPER                                           66040.00\n",
       "\n",
       "[1417 rows x 1 columns]"
      ]
     },
     "execution_count": 24,
     "metadata": {},
     "output_type": "execute_result"
    }
   ],
   "source": [
    "df.loc[data_roles, ['JOB_TITLE', 'WAGE_RATE_OF_PAY_FROM']].groupby('JOB_TITLE').median()"
   ]
  },
  {
   "cell_type": "markdown",
   "metadata": {
    "deletable": true,
    "editable": true
   },
   "source": [
    "Cool, but way too much information. Let's sort this by the pay column. "
   ]
  },
  {
   "cell_type": "code",
   "execution_count": 25,
   "metadata": {
    "collapsed": false,
    "deletable": true,
    "editable": true
   },
   "outputs": [
    {
     "data": {
      "text/html": [
       "<div>\n",
       "<style scoped>\n",
       "    .dataframe tbody tr th:only-of-type {\n",
       "        vertical-align: middle;\n",
       "    }\n",
       "\n",
       "    .dataframe tbody tr th {\n",
       "        vertical-align: top;\n",
       "    }\n",
       "\n",
       "    .dataframe thead th {\n",
       "        text-align: right;\n",
       "    }\n",
       "</style>\n",
       "<table border=\"1\" class=\"dataframe\">\n",
       "  <thead>\n",
       "    <tr style=\"text-align: right;\">\n",
       "      <th></th>\n",
       "      <th>WAGE_RATE_OF_PAY_FROM</th>\n",
       "    </tr>\n",
       "    <tr>\n",
       "      <th>JOB_TITLE</th>\n",
       "      <th></th>\n",
       "    </tr>\n",
       "  </thead>\n",
       "  <tbody>\n",
       "    <tr>\n",
       "      <th>SR. DIRECTOR, RETAIL DATA SCIENCE</th>\n",
       "      <td>300000.00</td>\n",
       "    </tr>\n",
       "    <tr>\n",
       "      <th>VICE PRESIDENT, DATA</th>\n",
       "      <td>230000.00</td>\n",
       "    </tr>\n",
       "    <tr>\n",
       "      <th>MANAGER, DATA ANALYTICS STRATEGY &amp; ADVANCED ANALYTICS</th>\n",
       "      <td>214117.56</td>\n",
       "    </tr>\n",
       "    <tr>\n",
       "      <th>SENIOR DATA ARCHITECT/ENGINEER</th>\n",
       "      <td>210000.00</td>\n",
       "    </tr>\n",
       "    <tr>\n",
       "      <th>VP, DATA AND MEDIA SOLUTIONS</th>\n",
       "      <td>210000.00</td>\n",
       "    </tr>\n",
       "    <tr>\n",
       "      <th>DATA SCIENCE MANAGER, ANALYTICS</th>\n",
       "      <td>203205.00</td>\n",
       "    </tr>\n",
       "    <tr>\n",
       "      <th>DIRECTOR, DATA SCIENCE</th>\n",
       "      <td>200000.00</td>\n",
       "    </tr>\n",
       "    <tr>\n",
       "      <th>SENIOR DATA PLATFORM ENGINEER</th>\n",
       "      <td>200000.00</td>\n",
       "    </tr>\n",
       "    <tr>\n",
       "      <th>VICE PRESIDENT, MARKETING DATA OPERATIONS</th>\n",
       "      <td>197000.00</td>\n",
       "    </tr>\n",
       "    <tr>\n",
       "      <th>STAFF DATA ENGINEER</th>\n",
       "      <td>197000.00</td>\n",
       "    </tr>\n",
       "  </tbody>\n",
       "</table>\n",
       "</div>"
      ],
      "text/plain": [
       "                                                    WAGE_RATE_OF_PAY_FROM\n",
       "JOB_TITLE                                                                \n",
       "SR. DIRECTOR, RETAIL DATA SCIENCE                               300000.00\n",
       "VICE PRESIDENT, DATA                                            230000.00\n",
       "MANAGER, DATA ANALYTICS STRATEGY & ADVANCED ANA...              214117.56\n",
       "SENIOR DATA ARCHITECT/ENGINEER                                  210000.00\n",
       "VP, DATA AND MEDIA SOLUTIONS                                    210000.00\n",
       "DATA SCIENCE MANAGER, ANALYTICS                                 203205.00\n",
       "DIRECTOR, DATA SCIENCE                                          200000.00\n",
       "SENIOR DATA PLATFORM ENGINEER                                   200000.00\n",
       "VICE PRESIDENT, MARKETING DATA OPERATIONS                       197000.00\n",
       "STAFF DATA ENGINEER                                             197000.00"
      ]
     },
     "execution_count": 25,
     "metadata": {},
     "output_type": "execute_result"
    }
   ],
   "source": [
    "(df.loc[data_roles, ['JOB_TITLE', 'WAGE_RATE_OF_PAY_FROM']]\n",
    " .groupby('JOB_TITLE')\n",
    " .median()\n",
    " .sort_values(by='WAGE_RATE_OF_PAY_FROM', ascending=False)\n",
    " .head(10)\n",
    ")"
   ]
  },
  {
   "cell_type": "markdown",
   "metadata": {
    "deletable": true,
    "editable": true
   },
   "source": [
    "Big numbers, but how many visas were issued for this purpose? For this, we can use `agg()`:"
   ]
  },
  {
   "cell_type": "code",
   "execution_count": 26,
   "metadata": {
    "collapsed": false,
    "deletable": true,
    "editable": true
   },
   "outputs": [
    {
     "data": {
      "text/html": [
       "<div>\n",
       "<style scoped>\n",
       "    .dataframe tbody tr th:only-of-type {\n",
       "        vertical-align: middle;\n",
       "    }\n",
       "\n",
       "    .dataframe tbody tr th {\n",
       "        vertical-align: top;\n",
       "    }\n",
       "\n",
       "    .dataframe thead tr th {\n",
       "        text-align: left;\n",
       "    }\n",
       "\n",
       "    .dataframe thead tr:last-of-type th {\n",
       "        text-align: right;\n",
       "    }\n",
       "</style>\n",
       "<table border=\"1\" class=\"dataframe\">\n",
       "  <thead>\n",
       "    <tr>\n",
       "      <th></th>\n",
       "      <th colspan=\"2\" halign=\"left\">WAGE_RATE_OF_PAY_FROM</th>\n",
       "    </tr>\n",
       "    <tr>\n",
       "      <th></th>\n",
       "      <th>median</th>\n",
       "      <th>count</th>\n",
       "    </tr>\n",
       "    <tr>\n",
       "      <th>JOB_TITLE</th>\n",
       "      <th></th>\n",
       "      <th></th>\n",
       "    </tr>\n",
       "  </thead>\n",
       "  <tbody>\n",
       "    <tr>\n",
       "      <th>SR. DIRECTOR, RETAIL DATA SCIENCE</th>\n",
       "      <td>300000.00</td>\n",
       "      <td>1</td>\n",
       "    </tr>\n",
       "    <tr>\n",
       "      <th>VICE PRESIDENT, DATA</th>\n",
       "      <td>230000.00</td>\n",
       "      <td>1</td>\n",
       "    </tr>\n",
       "    <tr>\n",
       "      <th>MANAGER, DATA ANALYTICS STRATEGY &amp; ADVANCED ANALYTICS</th>\n",
       "      <td>214117.56</td>\n",
       "      <td>1</td>\n",
       "    </tr>\n",
       "    <tr>\n",
       "      <th>SENIOR DATA ARCHITECT/ENGINEER</th>\n",
       "      <td>210000.00</td>\n",
       "      <td>1</td>\n",
       "    </tr>\n",
       "    <tr>\n",
       "      <th>VP, DATA AND MEDIA SOLUTIONS</th>\n",
       "      <td>210000.00</td>\n",
       "      <td>1</td>\n",
       "    </tr>\n",
       "    <tr>\n",
       "      <th>DATA SCIENCE MANAGER, ANALYTICS</th>\n",
       "      <td>203205.00</td>\n",
       "      <td>1</td>\n",
       "    </tr>\n",
       "    <tr>\n",
       "      <th>DIRECTOR, DATA SCIENCE</th>\n",
       "      <td>200000.00</td>\n",
       "      <td>3</td>\n",
       "    </tr>\n",
       "    <tr>\n",
       "      <th>SENIOR DATA PLATFORM ENGINEER</th>\n",
       "      <td>200000.00</td>\n",
       "      <td>1</td>\n",
       "    </tr>\n",
       "    <tr>\n",
       "      <th>VICE PRESIDENT, MARKETING DATA OPERATIONS</th>\n",
       "      <td>197000.00</td>\n",
       "      <td>1</td>\n",
       "    </tr>\n",
       "    <tr>\n",
       "      <th>STAFF DATA ENGINEER</th>\n",
       "      <td>197000.00</td>\n",
       "      <td>1</td>\n",
       "    </tr>\n",
       "  </tbody>\n",
       "</table>\n",
       "</div>"
      ],
      "text/plain": [
       "                                                   WAGE_RATE_OF_PAY_FROM      \n",
       "                                                                  median count\n",
       "JOB_TITLE                                                                     \n",
       "SR. DIRECTOR, RETAIL DATA SCIENCE                              300000.00     1\n",
       "VICE PRESIDENT, DATA                                           230000.00     1\n",
       "MANAGER, DATA ANALYTICS STRATEGY & ADVANCED ANA...             214117.56     1\n",
       "SENIOR DATA ARCHITECT/ENGINEER                                 210000.00     1\n",
       "VP, DATA AND MEDIA SOLUTIONS                                   210000.00     1\n",
       "DATA SCIENCE MANAGER, ANALYTICS                                203205.00     1\n",
       "DIRECTOR, DATA SCIENCE                                         200000.00     3\n",
       "SENIOR DATA PLATFORM ENGINEER                                  200000.00     1\n",
       "VICE PRESIDENT, MARKETING DATA OPERATIONS                      197000.00     1\n",
       "STAFF DATA ENGINEER                                            197000.00     1"
      ]
     },
     "execution_count": 26,
     "metadata": {},
     "output_type": "execute_result"
    }
   ],
   "source": [
    "(df.loc[data_roles, ['JOB_TITLE', 'WAGE_RATE_OF_PAY_FROM']]\n",
    " .groupby('JOB_TITLE')\n",
    " .agg(['median', 'count'])\n",
    " .sort_values(by=('WAGE_RATE_OF_PAY_FROM', 'median'), ascending=False)\n",
    " .head(10)\n",
    ")"
   ]
  },
  {
   "cell_type": "markdown",
   "metadata": {
    "collapsed": false,
    "deletable": true,
    "editable": true
   },
   "source": [
    "#### *Exercise:* What are the top firms for data **scientists**? How many data scientists are being hired there? How much are they getting paid?\n"
   ]
  },
  {
   "cell_type": "code",
   "execution_count": 27,
   "metadata": {
    "collapsed": true,
    "deletable": true,
    "editable": true
   },
   "outputs": [],
   "source": [
    "# todo: top 10 firms for data scientists, with median pay and visa count"
   ]
  },
  {
   "cell_type": "markdown",
   "metadata": {
    "collapsed": true,
    "deletable": true,
    "editable": true
   },
   "source": [
    "## Time Permitting: What's Interesting Here?"
   ]
  },
  {
   "cell_type": "code",
   "execution_count": null,
   "metadata": {
    "collapsed": true,
    "deletable": true,
    "editable": true
   },
   "outputs": [],
   "source": []
  }
 ],
 "metadata": {
  "anaconda-cloud": {},
  "kernelspec": {
   "display_name": "Python [py36]",
   "language": "python",
   "name": "Python [py36]"
  },
  "language_info": {
   "codemirror_mode": {
    "name": "ipython",
    "version": 3
   },
   "file_extension": ".py",
   "mimetype": "text/x-python",
   "name": "python",
   "nbconvert_exporter": "python",
   "pygments_lexer": "ipython3",
   "version": "3.6.2"
  }
 },
 "nbformat": 4,
 "nbformat_minor": 0
}
