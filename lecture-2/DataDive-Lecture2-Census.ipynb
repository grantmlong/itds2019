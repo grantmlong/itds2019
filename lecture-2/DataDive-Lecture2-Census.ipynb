{
 "cells": [
  {
   "cell_type": "markdown",
   "metadata": {},
   "source": [
    "# Data Dive 2: Loading and Summarizing Data\n",
    "### Tapping the Census API for Valuable Insights\n",
    "\n",
    "The U.S. Census API is an extremely rich data source by itself, but also one that can enhance and provide insights into other datasets. In the first part of today's exercise, we'll put \n",
    "\n",
    "Helpful links:\n",
    "* API [user guide](https://www.census.gov/data/developers/guidance/api-user-guide.html)\n",
    "* [List](https://api.census.gov/data/2017/acs/acs5/variables.html) of census variables provided by the API. \n",
    "* [Sample queries](https://api.census.gov/data/2017/acs/acs5/examples.html) for different geographies\n",
    "* [List](https://api.census.gov/data.html) of available apis\n",
    "* The [Census Factfinder](https://factfinder.census.gov/faces/nav/jsf/pages/index.xhtml) is a great place to browse data or look up variable names.\n",
    "\n",
    "Today we'll be using the 2017 ACS 5-year sample. The details of the different ACS samples are beyond the context of this class, but suffice to say that these estimates are built of five years of data from the ongoing ACS. \n",
    "\n",
    "The Census API, like many others, requires a *developer key* to use the API regularly. You can sign up for one [here](https://api.census.gov/data/key_signup.html). Thus far, I have not needed one for these exercises, but just to be on the safe side, it's nice to have one handy.  "
   ]
  },
  {
   "cell_type": "code",
   "execution_count": null,
   "metadata": {},
   "outputs": [],
   "source": [
    "import pandas as pd\n",
    "import requests\n",
    "\n",
    "# In case I need a key, I'll leave these here.\n",
    "import os\n",
    "census_key = os.getenv('CENSUS_KEY')\n"
   ]
  },
  {
   "cell_type": "markdown",
   "metadata": {},
   "source": [
    "### Using the API\n",
    "\n",
    "Some of the many useful variables in the ACS:\n",
    "* `B01001_001E`: Total Population\n",
    "* `B19013_001E`: Median Household Income\n",
    "* `B25058_001E`: Median Rent\n",
    "* `B01002_001E`: Median Age\n",
    "\n",
    "We'll need the base url for the *endpoint*, in this case `https://api.census.gov/data/2016/acs/acs5?`, along with the relevant parameters in our query. The `requests` package has a handy feature that allows you to enter your parameters as a dictionary using the `params` argument."
   ]
  },
  {
   "cell_type": "code",
   "execution_count": null,
   "metadata": {},
   "outputs": [],
   "source": [
    "url = 'https://api.census.gov/data/2017/acs/acs5?'\n",
    "params = {'get' : 'NAME,B01001_001E,B19013_001E,B25058_001E',\n",
    "          'for' : 'county:*',\n",
    "          'in' : 'state:*'}\n",
    "\n",
    "r = requests.get(url, params=params)\n",
    "print(r.url)"
   ]
  },
  {
   "cell_type": "markdown",
   "metadata": {},
   "source": [
    "Load our results into a data frame. In this case, we set the first row of results as the headers."
   ]
  },
  {
   "cell_type": "code",
   "execution_count": null,
   "metadata": {},
   "outputs": [],
   "source": [
    "census_df = pd.DataFrame(r.json()[1:], columns=r.json()[0])\n",
    "\n",
    "census_df.head(10)"
   ]
  },
  {
   "cell_type": "markdown",
   "metadata": {},
   "source": [
    "Let's clean things up a bit by renaming our columns and resetting the index"
   ]
  },
  {
   "cell_type": "code",
   "execution_count": null,
   "metadata": {},
   "outputs": [],
   "source": [
    "census_df[\"County Number\"] = census_df.state.astype(str) + census_df.county.astype(str) \n",
    "\n",
    "census_df = (census_df\n",
    "             .rename(\n",
    "                 columns={'NAME' : 'County Name',\n",
    "                          'B01001_001E' : 'Total Population',\n",
    "                          'B19013_001E' : 'Median Household Income',\n",
    "                          'B25058_001E' : 'Median Rent',\n",
    "                          'state' : 'State',\n",
    "                          'county' : 'County'\n",
    "                         }\n",
    "             )\n",
    "             .set_index('County Name')\n",
    "            )\n",
    "\n",
    "for col in ['Median Household Income', 'Total Population', 'Median Rent']:\n",
    "    census_df[col] = census_df[col].astype(int)\n",
    "      \n",
    "census_df['GEOID'] = (census_df['State'] + census_df['County']).astype(float)        \n",
    "census_df.sort_values(by='Median Household Income', ascending=False).head(10)"
   ]
  },
  {
   "cell_type": "markdown",
   "metadata": {},
   "source": [
    "#### Now we can start to have some fun by digging through the data. "
   ]
  },
  {
   "cell_type": "code",
   "execution_count": null,
   "metadata": {},
   "outputs": [],
   "source": [
    "census_df.sort_values(by='Total Population', ascending=False).head(5)"
   ]
  },
  {
   "cell_type": "markdown",
   "metadata": {},
   "source": [
    "### Writing to File\n",
    "Pandas also has simple functionality to *write* to files, not just read from them. To write to a csv file to store our data, we can just use [`.to_csv()`](https://pandas.pydata.org/pandas-docs/stable/generated/pandas.DataFrame.to_csv.html)."
   ]
  },
  {
   "cell_type": "code",
   "execution_count": null,
   "metadata": {},
   "outputs": [],
   "source": [
    "census_df.to_csv('census_counties_backup.csv')"
   ]
  },
  {
   "cell_type": "code",
   "execution_count": null,
   "metadata": {},
   "outputs": [],
   "source": []
  },
  {
   "cell_type": "markdown",
   "metadata": {},
   "source": [
    "## Exercise: America's Oldest Counties"
   ]
  },
  {
   "cell_type": "code",
   "execution_count": null,
   "metadata": {},
   "outputs": [],
   "source": [
    "# todo: find america's oldest counties by median age"
   ]
  },
  {
   "cell_type": "code",
   "execution_count": null,
   "metadata": {},
   "outputs": [],
   "source": []
  },
  {
   "cell_type": "markdown",
   "metadata": {},
   "source": [
    "## Exercise: Visualize \n",
    "\n",
    "We can use `Altair` to create interactive cloropleth maps highlighting the variation in different demographic and socioeconomic indicators across the U.S. \n",
    "\n",
    "Working those around you, use the code in this notebook and the menu of available census variables available [here](https://api.census.gov/data/2017/acs/acs5/variables.html) to tell a story about a pattern of variation in the data. "
   ]
  },
  {
   "cell_type": "code",
   "execution_count": null,
   "metadata": {},
   "outputs": [],
   "source": [
    "imUsingColab = False\n",
    "\n",
    "if imUsingColab:\n",
    "    !pip install altair\n",
    "\n",
    "try:\n",
    "    import altair as alt\n",
    "    if imUsingColab:\n",
    "        alt.renderers.enable('colab')\n",
    "    else:\n",
    "        alt.renderers.enable('notebook')    \n",
    "    imUsingAltair = True\n",
    "    print('Altair successfully loaded.')\n",
    "\n",
    "except ModuleNotFoundError:\n",
    "    imUsingAltair = False\n",
    "    print('Altair loading failed. Will default to matplotlib.')\n"
   ]
  },
  {
   "cell_type": "code",
   "execution_count": null,
   "metadata": {},
   "outputs": [],
   "source": [
    "def map_data(census_df, variable):\n",
    "    \n",
    "    '''\n",
    "    This function creates an interactive cloropleth map using a census variable. \n",
    "    '''\n",
    "    \n",
    "    census_df = census_df.reset_index()\n",
    "    \n",
    "    \n",
    "    val = pd.read_csv('https://grantmlong.com/data/census_validation.csv', names=['id'])\n",
    "\n",
    "    cf = val.merge(\n",
    "        census_df.loc[\n",
    "            census_df[variable]>-1000000,\n",
    "            ['GEOID', variable, 'County Name']],\n",
    "        left_on='id',\n",
    "        right_on='GEOID',\n",
    "        how='left'\n",
    "    )\n",
    "    \n",
    "    counties = alt.topo_feature(\n",
    "        'https://vega.github.io/vega-datasets/data/us-10m.json', \n",
    "        'counties'\n",
    "    )\n",
    "\n",
    "    census = alt.LookupData(cf, 'id', [variable, 'County Name'])\n",
    "\n",
    "    census_map = alt.Chart(\n",
    "        counties\n",
    "    ).mark_geoshape(\n",
    "    ).encode(\n",
    "        color='{variable}:Q'.format(variable=variable),\n",
    "        tooltip=[\n",
    "            '{variable}:Q'.format(variable=variable),\n",
    "            'County Name:N',\n",
    "        ]\n",
    "    ).transform_lookup(\n",
    "        lookup='id',\n",
    "        from_= census\n",
    "    ).project(\n",
    "        type='albersUsa'\n",
    "    ).properties(\n",
    "        width=850,\n",
    "        height=500\n",
    "    )\n",
    "    \n",
    "    return census_map\n",
    "    "
   ]
  },
  {
   "cell_type": "code",
   "execution_count": null,
   "metadata": {},
   "outputs": [],
   "source": [
    "map_data(census_df, 'Median Rent')"
   ]
  },
  {
   "cell_type": "code",
   "execution_count": null,
   "metadata": {},
   "outputs": [],
   "source": []
  }
 ],
 "metadata": {
  "anaconda-cloud": {},
  "kernelspec": {
   "display_name": "Python 3",
   "language": "python",
   "name": "python3"
  },
  "language_info": {
   "codemirror_mode": {
    "name": "ipython",
    "version": 3
   },
   "file_extension": ".py",
   "mimetype": "text/x-python",
   "name": "python",
   "nbconvert_exporter": "python",
   "pygments_lexer": "ipython3",
   "version": "3.6.7"
  }
 },
 "nbformat": 4,
 "nbformat_minor": 1
}
