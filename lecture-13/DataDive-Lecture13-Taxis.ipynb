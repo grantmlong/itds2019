{
 "cells": [
  {
   "cell_type": "markdown",
   "metadata": {},
   "source": [
    "\n",
    "# TLC Trip Data\n",
    "\n",
    "<img src=\"https://images.unsplash.com/photo-1540644622016-296c896739f3?ixlib=rb-1.2.1&ixid=eyJhcHBfaWQiOjEyMDd9&auto=format&fit=crop&w=1050&q=80\" width=600>\n",
    "\n",
    "*** \n",
    "The New York City Taxi and Limousine Commission (TLC), created in 1971, is the agency responsible for licensing and regulating New York City's Medallion (Yellow) taxi cabs, for-hire vehicles (community-based liveries, black cars and luxury limousines), commuter vans, and paratransit vehicles. The Commission's Board consists of nine members, eight of whom are unsalaried Commissioners. The salaried Chair/ Commissioner presides over regularly scheduled public commission meetings and is the head of the agency, which maintains a staff of approximately 600 TLC employees.\n",
    "\n",
    "Over 200,000 TLC licensees complete approximately 1,000,000 trips each day. To operate for hire, drivers must first undergo a background check, have a safe driving record, and complete 24 hours of driver training. TLC-licensed vehicles are inspected for safety and emissions at TLC's Woodside Inspection Facility.\n",
    "\n",
    "*** \n",
    "TLC Data has spawned an enormous amount coding challenges on Kaggle (including [this](https://www.kaggle.com/c/nyc-taxi-trip-duration) and [this](https://www.kaggle.com/c/new-york-city-taxi-fare-prediction)), cool interactive visualizations like [this one](http://chriswhong.github.io/nyctaxi/), and has been known to pop on coding challenges given out by firms hiring data scientists.\n",
    "\n",
    "Today we'll try to calculate the likelihood of ending a trip in a given area of the city given a certain starting point. With roughly 8 million trip records per month, we'll have to think carefully about how we process our data and scale our analysis.    \n"
   ]
  },
  {
   "cell_type": "code",
   "execution_count": null,
   "metadata": {},
   "outputs": [],
   "source": [
    "import requests\n",
    "import time\n",
    "import json\n",
    "import pandas as pd\n",
    "\n",
    "pd.options.mode.chained_assignment = None "
   ]
  },
  {
   "cell_type": "code",
   "execution_count": null,
   "metadata": {},
   "outputs": [],
   "source": [
    "imUsingColab = False\n",
    "if imUsingColab:\n",
    "    !pip install geopandas\n",
    "    alt.renderers.enable('colab')\n",
    "else: \n",
    "    alt.renderers.enable('notebook')\n",
    "\n",
    "import altair as alt \n",
    "import geopandas as gpd\n"
   ]
  },
  {
   "cell_type": "markdown",
   "metadata": {},
   "source": [
    "#### Read in taxi zone data so we can better interpret our results\n",
    "\n",
    "Taxi zone data available for download as geojson from [here](https://data.cityofnewyork.us/Transportation/NYC-Taxi-Zones/d3c5-ddgc), I've it posted on my site for convenience\n"
   ]
  },
  {
   "cell_type": "code",
   "execution_count": null,
   "metadata": {},
   "outputs": [],
   "source": [
    "zones = gpd.read_file('https://grantmlong.com/data/taxi_zones.geojson')\n",
    "\n",
    "# Create a dictionary that will allow us to better understand the zones defined by the TLC\n",
    "zone_guide = zones[['location_id', 'zone']].set_index('zone')['location_id'].to_dict()"
   ]
  },
  {
   "cell_type": "code",
   "execution_count": null,
   "metadata": {},
   "outputs": [],
   "source": [
    "zone_guide[\"Manhattanville\"]"
   ]
  },
  {
   "cell_type": "code",
   "execution_count": null,
   "metadata": {},
   "outputs": [],
   "source": []
  },
  {
   "cell_type": "code",
   "execution_count": null,
   "metadata": {},
   "outputs": [],
   "source": []
  },
  {
   "cell_type": "markdown",
   "metadata": {},
   "source": [
    "# Stream in our files from AWS S3\n",
    "\n",
    "The TLC hosts uncompressed csv files on AWS S3. Links to the files can be [found here](https://www1.nyc.gov/site/tlc/about/tlc-trip-record-data.page) and include several columns described below and in [a data dictionary posted on the City's website](https://www1.nyc.gov/assets/tlc/downloads/pdf/data_dictionary_trip_records_yellow.pdf).\n",
    "\n",
    "['VendorID', 'tpep_pickup_datetime', 'tpep_dropoff_datetime', 'passenger_count', 'trip_distance', 'RatecodeID', 'store_and_fwd_flag', 'PULocationID', 'DOLocationID', 'payment_type', 'fare_amount', 'extra', 'mta_tax', 'tip_amount', 'tolls_amount', 'improvement_surcharge', 'total_amount']\n",
    "\n",
    "| Position | Column | Definition |\n",
    "|---|---|---|\n",
    "| 0 | `VendorID` | A code indicating the TPEP provider that provided the record. |\n",
    "| 1 | `tpep_pickup_datetime` | The date and time when the meter was engaged. | \n",
    "| 2 | `tpep_dropoff_datetime` | The date and time when the meter was disengaged. |\n",
    "| 3 | `passenger_count` | The number of passengers in the vehicle. |\n",
    "| 4 | `trip_distance` | The elapsed trip distance in miles reported by the taximeter. |\n",
    "| 5 | `RatecodeID` | The final rate code in effect at the end of the trip. |\n",
    "| 6 | `store_and_fwd_flag` | This flag indicates whether the trip record was held in vehicle memory before sending to the vendor, aka “store and forward,” because the vehicle did not have a connection to the server. |\n",
    "| 7 | `PULocationID` | TLC Taxi Zone in which the taximeter was engaged. | \n",
    "| 8 | `DOLocationID` | TLC Taxi Zone in which the taximeter was disengaged. | \n",
    "| 9 | `payment_type` | A numeric code signifying how the passenger paid for the trip. |\n",
    "| 10 | `fare_amount` | The time-and-distance fare calculated by the meter. | \n",
    "| 11 | `extra` | Miscellaneous extras and surcharges. Currently, this only includes the \\\\$0.50 and \\\\$1 rush hour and overnight charges. |\n",
    "| 12 | `mta_tax` | \\\\$0\\\\.50 MTA tax that is automatically triggered based on the metered rate in use. |\n",
    "| 13 | `improvement_surcharge` | \\\\$0.30 improvement surcharge assessed trips at the flag drop. The improvement surcharge began being levied in 2015. |\n",
    "| 14 | `tip_amount` | Tip amount – This field is automatically populated for credit card tips. Cash tips are not included. | \n",
    "| 15 | `tolls_amount` | Total amount of all tolls paid in trip. | \n",
    "| 16 | `total_amount` | The total amount charged to passengers. Does not include cash tips. |"
   ]
  },
  {
   "cell_type": "code",
   "execution_count": null,
   "metadata": {},
   "outputs": [],
   "source": [
    "def process_TLC_file(month, \n",
    "                     pickups=None,\n",
    "                     pickups_to=None,\n",
    "                     base_URL='https://s3.amazonaws.com/nyc-tlc/trip+data/yellow_tripdata_',\n",
    "                     max_rows=1000,\n",
    "                     verbose=True\n",
    "                    ):\n",
    "\n",
    "    t0 = time.clock()\n",
    "    \n",
    "    data_stream = requests.get(url=base_URL + month + '.csv', stream=True)\n",
    "\n",
    "    # Strip out headers\n",
    "    headers = next(data_stream.iter_lines()).decode(\"utf-8\").split(',')\n",
    "\n",
    "    # Initialize row and error counters\n",
    "    rows_processed = 0\n",
    "    error_count = 0\n",
    "\n",
    "    # Initialize counting dictionaries if not given \n",
    "    if not pickups:\n",
    "        pickups = {}\n",
    "    if not pickups_to:\n",
    "        pickups_to= {}\n",
    "\n",
    "    for line in data_stream.iter_lines():\n",
    "\n",
    "        trip = line.decode(\"utf-8\").split(',')\n",
    "\n",
    "        try:\n",
    "            pickup = int(trip[7])\n",
    "            dropoff = int(trip[8])\n",
    "\n",
    "            if pickup in pickups.keys():\n",
    "                pickups[pickup] += 1\n",
    "                if dropoff in pickups_to[pickup].keys():\n",
    "                    pickups_to[pickup][dropoff] += 1\n",
    "                else:\n",
    "                    pickups_to[pickup][dropoff] = 1\n",
    "            else:\n",
    "                pickups[pickup] = 1\n",
    "                pickups_to[pickup] = {}\n",
    "                pickups_to[pickup][dropoff] = 1\n",
    "\n",
    "        except:\n",
    "            error_count += 1\n",
    "\n",
    "        rows_processed += 1\n",
    "        if rows_processed > max_rows:\n",
    "            break\n",
    "    \n",
    "    if verbose:\n",
    "        print('%s: %i excepted errors.' % (month, error_count))        \n",
    "        print('%s: %i rows processed.' % (month, rows_processed))\n",
    "        print('%s: %0.1f seconds processing time.' % (month, (time.clock()-t0)))\n",
    "            \n",
    "    return pickups, pickups_to\n",
    "\n",
    "pickups, pickups_to = process_TLC_file('2018-12', max_rows=10000)"
   ]
  },
  {
   "cell_type": "code",
   "execution_count": null,
   "metadata": {},
   "outputs": [],
   "source": []
  },
  {
   "cell_type": "code",
   "execution_count": null,
   "metadata": {},
   "outputs": [],
   "source": []
  },
  {
   "cell_type": "markdown",
   "metadata": {},
   "source": [
    "# Analyzing the Results\n",
    "* What's the top spot in the city for pickups?\n",
    "* What's the top destination here in Manhattanville? Other neighborhoods?\n",
    "* What's the likelihood a taxi picking up here drops off on the Upper East Side?\n",
    "\n",
    "\n",
    "Let's also create some additional functions to help us make sense of the data."
   ]
  },
  {
   "cell_type": "code",
   "execution_count": null,
   "metadata": {},
   "outputs": [],
   "source": [
    "# Create function to return likelihood of \n",
    "def dropoff_likelihood(pickup, dropoff):\n",
    "    n_pickups = pickups[pickup]\n",
    "    n_dropoffs = pickups_to[pickup][dropoff]\n",
    "    return n_dropoffs/n_pickups\n",
    "\n",
    "\n",
    "# Create function to return top destination for a given pickup zone\n",
    "def get_top_destination(pickup, pickups_to=pickups_to):\n",
    "    top_dropoffs = sorted(pickups_to[pickup].items(), key=lambda x: x[1], reverse=True)\n",
    "    return top_dropoffs[0]\n"
   ]
  },
  {
   "cell_type": "code",
   "execution_count": null,
   "metadata": {},
   "outputs": [],
   "source": [
    "get_top_destination(152)"
   ]
  },
  {
   "cell_type": "code",
   "execution_count": null,
   "metadata": {},
   "outputs": [],
   "source": [
    "dropoff_likelihood(152, 166)"
   ]
  },
  {
   "cell_type": "code",
   "execution_count": null,
   "metadata": {},
   "outputs": [],
   "source": [
    "pickups[152]"
   ]
  },
  {
   "cell_type": "code",
   "execution_count": null,
   "metadata": {},
   "outputs": [],
   "source": [
    "pickups_to[152][166]"
   ]
  },
  {
   "cell_type": "code",
   "execution_count": null,
   "metadata": {},
   "outputs": [],
   "source": []
  },
  {
   "cell_type": "markdown",
   "metadata": {},
   "source": [
    "# Visualize Results\n",
    "\n",
    "This altair code derives from [this example](https://medium.com/dataexplorations/creating-choropleth-maps-in-altair-eeb7085779a1). We'll create a function that will allow us to map different trip frequencies across the city.\n",
    "\n"
   ]
  },
  {
   "cell_type": "code",
   "execution_count": null,
   "metadata": {},
   "outputs": [],
   "source": [
    "def map_values(trips, \n",
    "               zones=zones, \n",
    "               title=\"Number of Trips\", \n",
    "               size=750, \n",
    "               drop=['Staten Island', 'EWR']):\n",
    "    \n",
    "   # Optional, but drop Staten Island and Newark Airport to make things cleaner\n",
    "    zones = zones.loc[~zones.borough.isin(drop)]\n",
    "    \n",
    "    # Join values for map to frame\n",
    "    zones['trips'] = zones.location_id.astype(int).map(trips)\n",
    "    zones.loc[zones.trips.isnull(), 'trips'] = 0\n",
    "    \n",
    "    # Reformat into Altair-friendly format\n",
    "    choro_json = json.loads(zones.to_json())\n",
    "    choro_data = alt.Data(values=choro_json['features'])\n",
    "\n",
    "    # Add base map layer with taxi zones\n",
    "    base = alt.Chart(choro_data).mark_geoshape(\n",
    "            stroke='black',\n",
    "            strokeWidth=1\n",
    "    ).encode(\n",
    "    ).properties(\n",
    "        width=size,\n",
    "        height=size\n",
    "    )\n",
    "\n",
    "    # Add choropleth layer with taxi data\n",
    "    choro = alt.Chart(choro_data).mark_geoshape(\n",
    "        fill='lightgray',\n",
    "        stroke='black'\n",
    "    ).encode(\n",
    "        alt.Color(\n",
    "            'properties.trips:Q',\n",
    "            type='quantitative', \n",
    "            scale=alt.Scale(scheme='plasma'),\n",
    "            title=title),\n",
    "        tooltip=[\n",
    "            'properties.zone:O',\n",
    "            'properties.location_id:O',\n",
    "            'properties.borough:O',\n",
    "            'properties.trips:Q',\n",
    "        ]\n",
    "    )\n",
    "\n",
    "    return base + choro\n"
   ]
  },
  {
   "cell_type": "code",
   "execution_count": null,
   "metadata": {},
   "outputs": [],
   "source": [
    "map_values(pickups_to[152])"
   ]
  },
  {
   "cell_type": "code",
   "execution_count": null,
   "metadata": {},
   "outputs": [],
   "source": []
  },
  {
   "cell_type": "markdown",
   "metadata": {},
   "source": [
    "# Going Deeper: Other Factors to Explore\n",
    "\n",
    "#### Big data allows us to better understand events and their likelihoods under a wide range of scenarios? How might we look at taxi trips across the following dimensions: \n",
    "1. Time of year\n",
    "2. Day of week\n",
    "3. Time of day\n",
    "4. Number of passengers\n",
    "5. Others?\n",
    "\n",
    "*** \n",
    "Suppose if we owned a bar or restaurant in a certain area of the city and wanted to learn more about where people going out in our neighborhood were coming from and how that has changed over time. How could this data help us?"
   ]
  },
  {
   "cell_type": "code",
   "execution_count": null,
   "metadata": {},
   "outputs": [],
   "source": []
  },
  {
   "cell_type": "code",
   "execution_count": null,
   "metadata": {},
   "outputs": [],
   "source": []
  },
  {
   "cell_type": "code",
   "execution_count": null,
   "metadata": {},
   "outputs": [],
   "source": []
  }
 ],
 "metadata": {
  "kernelspec": {
   "display_name": "Python 3",
   "language": "python",
   "name": "python3"
  },
  "language_info": {
   "codemirror_mode": {
    "name": "ipython",
    "version": 3
   },
   "file_extension": ".py",
   "mimetype": "text/x-python",
   "name": "python",
   "nbconvert_exporter": "python",
   "pygments_lexer": "ipython3",
   "version": "3.6.7"
  }
 },
 "nbformat": 4,
 "nbformat_minor": 2
}
